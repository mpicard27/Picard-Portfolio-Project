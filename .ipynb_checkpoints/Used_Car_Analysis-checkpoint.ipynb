{
 "cells": [
  {
   "cell_type": "markdown",
   "id": "b7a2b006-8c76-489d-8ddc-3e62588a2665",
   "metadata": {
    "tags": []
   },
   "source": [
    "# Used Car Analysis"
   ]
  },
  {
   "cell_type": "code",
   "execution_count": 20,
   "id": "3cd47716-0210-420b-a6a2-ecc4c7656c39",
   "metadata": {},
   "outputs": [],
   "source": [
    "#Import needed modules and dataset(s) to be used\n",
    "#Dataset acquired from: https://www.kaggle.com/datasets/chancev/carsforsale \n",
    "import pandas as pd\n",
    "import numpy as np\n",
    "from matplotlib import pyplot as plt\n",
    "import seaborn as sns\n",
    "import plotly\n",
    "import plotly.express as px\n",
    "import plotly.graph_objects as go\n",
    "import datetime\n",
    "\n",
    "pd.set_option('display.max.columns', None)\n",
    "cars_data = pd.read_csv('cars_raw.csv')"
   ]
  },
  {
   "cell_type": "code",
   "execution_count": 21,
   "id": "6bbbd34d-b7d2-4808-a613-2881213da04e",
   "metadata": {},
   "outputs": [
    {
     "data": {
      "text/html": [
       "<div>\n",
       "<style scoped>\n",
       "    .dataframe tbody tr th:only-of-type {\n",
       "        vertical-align: middle;\n",
       "    }\n",
       "\n",
       "    .dataframe tbody tr th {\n",
       "        vertical-align: top;\n",
       "    }\n",
       "\n",
       "    .dataframe thead th {\n",
       "        text-align: right;\n",
       "    }\n",
       "</style>\n",
       "<table border=\"1\" class=\"dataframe\">\n",
       "  <thead>\n",
       "    <tr style=\"text-align: right;\">\n",
       "      <th></th>\n",
       "      <th>Year</th>\n",
       "      <th>Make</th>\n",
       "      <th>Model</th>\n",
       "      <th>Used/New</th>\n",
       "      <th>Price</th>\n",
       "      <th>ConsumerRating</th>\n",
       "      <th>ConsumerReviews</th>\n",
       "      <th>SellerType</th>\n",
       "      <th>SellerName</th>\n",
       "      <th>SellerRating</th>\n",
       "      <th>SellerReviews</th>\n",
       "      <th>StreetName</th>\n",
       "      <th>State</th>\n",
       "      <th>Zipcode</th>\n",
       "      <th>DealType</th>\n",
       "      <th>ComfortRating</th>\n",
       "      <th>InteriorDesignRating</th>\n",
       "      <th>PerformanceRating</th>\n",
       "      <th>ValueForMoneyRating</th>\n",
       "      <th>ExteriorStylingRating</th>\n",
       "      <th>ReliabilityRating</th>\n",
       "      <th>ExteriorColor</th>\n",
       "      <th>InteriorColor</th>\n",
       "      <th>Drivetrain</th>\n",
       "      <th>MinMPG</th>\n",
       "      <th>MaxMPG</th>\n",
       "      <th>FuelType</th>\n",
       "      <th>Transmission</th>\n",
       "      <th>Engine</th>\n",
       "      <th>VIN</th>\n",
       "      <th>Stock#</th>\n",
       "      <th>Mileage</th>\n",
       "    </tr>\n",
       "  </thead>\n",
       "  <tbody>\n",
       "    <tr>\n",
       "      <th>0</th>\n",
       "      <td>2019</td>\n",
       "      <td>Toyota</td>\n",
       "      <td>Sienna SE</td>\n",
       "      <td>Used</td>\n",
       "      <td>$39,998</td>\n",
       "      <td>4.6</td>\n",
       "      <td>45</td>\n",
       "      <td>Dealer</td>\n",
       "      <td>CarMax Murrieta - Now offering Curbside Pickup...</td>\n",
       "      <td>3.3</td>\n",
       "      <td>3</td>\n",
       "      <td>25560 Madison Ave Murrieta</td>\n",
       "      <td>CA</td>\n",
       "      <td>92562</td>\n",
       "      <td>Great</td>\n",
       "      <td>4.7</td>\n",
       "      <td>4.6</td>\n",
       "      <td>4.6</td>\n",
       "      <td>4.4</td>\n",
       "      <td>4.6</td>\n",
       "      <td>4.7</td>\n",
       "      <td>Red</td>\n",
       "      <td>Black</td>\n",
       "      <td>Front-wheel Drive</td>\n",
       "      <td>19</td>\n",
       "      <td>27</td>\n",
       "      <td>Gasoline</td>\n",
       "      <td>8-Speed Automatic</td>\n",
       "      <td>3.5L V6 24V PDI DOHC</td>\n",
       "      <td>5TDXZ3DC2KS015402</td>\n",
       "      <td>22998646</td>\n",
       "      <td>29403</td>\n",
       "    </tr>\n",
       "    <tr>\n",
       "      <th>1</th>\n",
       "      <td>2018</td>\n",
       "      <td>Ford</td>\n",
       "      <td>F-150 Lariat</td>\n",
       "      <td>Used</td>\n",
       "      <td>$49,985</td>\n",
       "      <td>4.8</td>\n",
       "      <td>817</td>\n",
       "      <td>Dealer</td>\n",
       "      <td>Giant Chevrolet</td>\n",
       "      <td>4.8</td>\n",
       "      <td>131</td>\n",
       "      <td>1001 S Ben Maddox Way Visalia</td>\n",
       "      <td>CA</td>\n",
       "      <td>93292</td>\n",
       "      <td>Good</td>\n",
       "      <td>4.9</td>\n",
       "      <td>4.8</td>\n",
       "      <td>4.8</td>\n",
       "      <td>4.6</td>\n",
       "      <td>4.8</td>\n",
       "      <td>4.7</td>\n",
       "      <td>Shadow Black</td>\n",
       "      <td>Black</td>\n",
       "      <td>Four-wheel Drive</td>\n",
       "      <td>19</td>\n",
       "      <td>24</td>\n",
       "      <td>Gasoline</td>\n",
       "      <td>10-Speed Automatic</td>\n",
       "      <td>3.5L V6 24V PDI DOHC Twin Turbo</td>\n",
       "      <td>1FTEW1EG2JFD44217</td>\n",
       "      <td>22418A</td>\n",
       "      <td>32929</td>\n",
       "    </tr>\n",
       "    <tr>\n",
       "      <th>2</th>\n",
       "      <td>2017</td>\n",
       "      <td>RAM</td>\n",
       "      <td>1500 Laramie</td>\n",
       "      <td>Used</td>\n",
       "      <td>$41,860</td>\n",
       "      <td>4.7</td>\n",
       "      <td>495</td>\n",
       "      <td>Dealer</td>\n",
       "      <td>Gill Auto Group Madera</td>\n",
       "      <td>4.6</td>\n",
       "      <td>249</td>\n",
       "      <td>1100 S Madera Ave Madera</td>\n",
       "      <td>CA</td>\n",
       "      <td>93637</td>\n",
       "      <td>Good</td>\n",
       "      <td>4.8</td>\n",
       "      <td>4.7</td>\n",
       "      <td>4.8</td>\n",
       "      <td>4.6</td>\n",
       "      <td>4.8</td>\n",
       "      <td>4.7</td>\n",
       "      <td>Granite Crystal Clearcoat Metallic</td>\n",
       "      <td>Black</td>\n",
       "      <td>Four-wheel Drive</td>\n",
       "      <td>15</td>\n",
       "      <td>21</td>\n",
       "      <td>Gasoline</td>\n",
       "      <td>8-Speed Automatic</td>\n",
       "      <td>5.7L V8 16V MPFI OHV</td>\n",
       "      <td>1C6RR7VT5HS842283</td>\n",
       "      <td>NG277871G</td>\n",
       "      <td>23173</td>\n",
       "    </tr>\n",
       "    <tr>\n",
       "      <th>3</th>\n",
       "      <td>2021</td>\n",
       "      <td>Honda</td>\n",
       "      <td>Accord Sport SE</td>\n",
       "      <td>Used</td>\n",
       "      <td>$28,500</td>\n",
       "      <td>5.0</td>\n",
       "      <td>36</td>\n",
       "      <td>Dealer</td>\n",
       "      <td>AutoSavvy Las Vegas</td>\n",
       "      <td>4.6</td>\n",
       "      <td>284</td>\n",
       "      <td>2121 E Sahara Ave Las Vegas</td>\n",
       "      <td>NV</td>\n",
       "      <td>89104</td>\n",
       "      <td>NaN</td>\n",
       "      <td>4.9</td>\n",
       "      <td>5.0</td>\n",
       "      <td>4.9</td>\n",
       "      <td>5.0</td>\n",
       "      <td>5.0</td>\n",
       "      <td>5.0</td>\n",
       "      <td>Gray</td>\n",
       "      <td>–</td>\n",
       "      <td>Front-wheel Drive</td>\n",
       "      <td>29</td>\n",
       "      <td>35</td>\n",
       "      <td>Gasoline</td>\n",
       "      <td>Automatic CVT</td>\n",
       "      <td>1.5L I4 16V GDI DOHC Turbo</td>\n",
       "      <td>1HGCV1F49MA038035</td>\n",
       "      <td>54237</td>\n",
       "      <td>10598</td>\n",
       "    </tr>\n",
       "    <tr>\n",
       "      <th>4</th>\n",
       "      <td>2020</td>\n",
       "      <td>Lexus</td>\n",
       "      <td>RX 350</td>\n",
       "      <td>Used</td>\n",
       "      <td>$49,000</td>\n",
       "      <td>4.8</td>\n",
       "      <td>76</td>\n",
       "      <td>Dealer</td>\n",
       "      <td>Lexus of Henderson</td>\n",
       "      <td>4.8</td>\n",
       "      <td>4755</td>\n",
       "      <td>7737 Eastgate Rd Henderson</td>\n",
       "      <td>NV</td>\n",
       "      <td>89011</td>\n",
       "      <td>Good</td>\n",
       "      <td>4.9</td>\n",
       "      <td>4.8</td>\n",
       "      <td>4.8</td>\n",
       "      <td>4.7</td>\n",
       "      <td>4.8</td>\n",
       "      <td>4.9</td>\n",
       "      <td>Eminent White Pearl</td>\n",
       "      <td>Birch</td>\n",
       "      <td>Front-wheel Drive</td>\n",
       "      <td>20</td>\n",
       "      <td>27</td>\n",
       "      <td>Gasoline</td>\n",
       "      <td>8-Speed Automatic</td>\n",
       "      <td>3.5L V6 24V PDI DOHC</td>\n",
       "      <td>2T2AZMAA8LC156270</td>\n",
       "      <td>HDT4181A</td>\n",
       "      <td>28137</td>\n",
       "    </tr>\n",
       "  </tbody>\n",
       "</table>\n",
       "</div>"
      ],
      "text/plain": [
       "   Year    Make            Model Used/New    Price  ConsumerRating  \\\n",
       "0  2019  Toyota        Sienna SE     Used  $39,998             4.6   \n",
       "1  2018    Ford     F-150 Lariat     Used  $49,985             4.8   \n",
       "2  2017     RAM     1500 Laramie     Used  $41,860             4.7   \n",
       "3  2021   Honda  Accord Sport SE     Used  $28,500             5.0   \n",
       "4  2020   Lexus           RX 350     Used  $49,000             4.8   \n",
       "\n",
       "   ConsumerReviews SellerType  \\\n",
       "0               45     Dealer   \n",
       "1              817     Dealer   \n",
       "2              495     Dealer   \n",
       "3               36     Dealer   \n",
       "4               76     Dealer   \n",
       "\n",
       "                                          SellerName  SellerRating  \\\n",
       "0  CarMax Murrieta - Now offering Curbside Pickup...           3.3   \n",
       "1                                    Giant Chevrolet           4.8   \n",
       "2                             Gill Auto Group Madera           4.6   \n",
       "3                                AutoSavvy Las Vegas           4.6   \n",
       "4                                 Lexus of Henderson           4.8   \n",
       "\n",
       "   SellerReviews                     StreetName State Zipcode DealType  \\\n",
       "0              3     25560 Madison Ave Murrieta    CA   92562    Great   \n",
       "1            131  1001 S Ben Maddox Way Visalia    CA   93292     Good   \n",
       "2            249       1100 S Madera Ave Madera    CA   93637     Good   \n",
       "3            284    2121 E Sahara Ave Las Vegas    NV   89104      NaN   \n",
       "4           4755     7737 Eastgate Rd Henderson    NV   89011     Good   \n",
       "\n",
       "   ComfortRating  InteriorDesignRating  PerformanceRating  \\\n",
       "0            4.7                   4.6                4.6   \n",
       "1            4.9                   4.8                4.8   \n",
       "2            4.8                   4.7                4.8   \n",
       "3            4.9                   5.0                4.9   \n",
       "4            4.9                   4.8                4.8   \n",
       "\n",
       "   ValueForMoneyRating  ExteriorStylingRating  ReliabilityRating  \\\n",
       "0                  4.4                    4.6                4.7   \n",
       "1                  4.6                    4.8                4.7   \n",
       "2                  4.6                    4.8                4.7   \n",
       "3                  5.0                    5.0                5.0   \n",
       "4                  4.7                    4.8                4.9   \n",
       "\n",
       "                        ExteriorColor InteriorColor         Drivetrain  \\\n",
       "0                                 Red         Black  Front-wheel Drive   \n",
       "1                        Shadow Black         Black   Four-wheel Drive   \n",
       "2  Granite Crystal Clearcoat Metallic         Black   Four-wheel Drive   \n",
       "3                                Gray             –  Front-wheel Drive   \n",
       "4                 Eminent White Pearl         Birch  Front-wheel Drive   \n",
       "\n",
       "   MinMPG  MaxMPG  FuelType        Transmission  \\\n",
       "0      19      27  Gasoline   8-Speed Automatic   \n",
       "1      19      24  Gasoline  10-Speed Automatic   \n",
       "2      15      21  Gasoline   8-Speed Automatic   \n",
       "3      29      35  Gasoline       Automatic CVT   \n",
       "4      20      27  Gasoline   8-Speed Automatic   \n",
       "\n",
       "                            Engine                VIN     Stock#  Mileage  \n",
       "0             3.5L V6 24V PDI DOHC  5TDXZ3DC2KS015402   22998646    29403  \n",
       "1  3.5L V6 24V PDI DOHC Twin Turbo  1FTEW1EG2JFD44217     22418A    32929  \n",
       "2             5.7L V8 16V MPFI OHV  1C6RR7VT5HS842283  NG277871G    23173  \n",
       "3       1.5L I4 16V GDI DOHC Turbo  1HGCV1F49MA038035      54237    10598  \n",
       "4             3.5L V6 24V PDI DOHC  2T2AZMAA8LC156270   HDT4181A    28137  "
      ]
     },
     "execution_count": 21,
     "metadata": {},
     "output_type": "execute_result"
    }
   ],
   "source": [
    "#Take a first look at dataframe\n",
    "cars_data.head(5)"
   ]
  },
  {
   "cell_type": "code",
   "execution_count": 22,
   "id": "06e81bad-a9e1-40b5-8456-9331148f1277",
   "metadata": {},
   "outputs": [
    {
     "name": "stdout",
     "output_type": "stream",
     "text": [
      "              Year  ConsumerRating  ConsumerReviews  SellerRating  \\\n",
      "count  9379.000000     9379.000000      9379.000000   9379.000000   \n",
      "mean   2018.721719        4.702825       133.187014      4.412571   \n",
      "std       2.221708        0.240795       154.985640      0.626258   \n",
      "min    2001.000000        2.500000         1.000000      1.000000   \n",
      "25%    2018.000000        4.700000        30.000000      4.300000   \n",
      "50%    2019.000000        4.800000        75.000000      4.600000   \n",
      "75%    2020.000000        4.800000       182.000000      4.800000   \n",
      "max    2022.000000        5.000000       817.000000      5.000000   \n",
      "\n",
      "       SellerReviews  ComfortRating  InteriorDesignRating  PerformanceRating  \\\n",
      "count    9379.000000    9379.000000           9379.000000        9379.000000   \n",
      "mean      984.089988       4.771895              4.727391           4.696290   \n",
      "std      1609.039864       0.217822              0.194391           0.253664   \n",
      "min         1.000000       3.000000              2.800000           1.000000   \n",
      "25%       112.000000       4.700000              4.700000           4.600000   \n",
      "50%       542.000000       4.800000              4.800000           4.700000   \n",
      "75%      1272.000000       4.900000              4.800000           4.800000   \n",
      "max     27824.000000       5.000000              5.000000           5.000000   \n",
      "\n",
      "       ValueForMoneyRating  ExteriorStylingRating  ReliabilityRating  \\\n",
      "count          9379.000000            9379.000000        9379.000000   \n",
      "mean              4.537083               4.782194           4.681746   \n",
      "std               0.338098               0.171537           0.368161   \n",
      "min               1.000000               3.000000           1.000000   \n",
      "25%               4.500000               4.700000           4.600000   \n",
      "50%               4.600000               4.800000           4.800000   \n",
      "75%               4.700000               4.900000           4.900000   \n",
      "max               5.000000               5.000000           5.000000   \n",
      "\n",
      "            MinMPG       MaxMPG        Mileage  \n",
      "count  9379.000000  9379.000000    9379.000000  \n",
      "mean     22.755411    29.216548   37463.023350  \n",
      "std      14.812869    12.809783   24970.342569  \n",
      "min       0.000000     0.000000     121.000000  \n",
      "25%      18.000000    25.000000   18666.500000  \n",
      "50%      20.000000    27.000000   32907.000000  \n",
      "75%      24.000000    31.000000   47698.000000  \n",
      "max     150.000000   133.000000  234114.000000  \n",
      " --- \n",
      "Year                       0\n",
      "Make                       0\n",
      "Model                      0\n",
      "Used/New                   0\n",
      "Price                      0\n",
      "ConsumerRating             0\n",
      "ConsumerReviews            0\n",
      "SellerType                 0\n",
      "SellerName                 0\n",
      "SellerRating               0\n",
      "SellerReviews              0\n",
      "StreetName                 0\n",
      "State                      0\n",
      "Zipcode                    0\n",
      "DealType                 222\n",
      "ComfortRating              0\n",
      "InteriorDesignRating       0\n",
      "PerformanceRating          0\n",
      "ValueForMoneyRating        0\n",
      "ExteriorStylingRating      0\n",
      "ReliabilityRating          0\n",
      "ExteriorColor              0\n",
      "InteriorColor              0\n",
      "Drivetrain                 0\n",
      "MinMPG                     0\n",
      "MaxMPG                     0\n",
      "FuelType                   0\n",
      "Transmission               0\n",
      "Engine                     0\n",
      "VIN                        0\n",
      "Stock#                     0\n",
      "Mileage                    0\n",
      "dtype: int64\n",
      " --- \n",
      "Good     5524\n",
      "Great    2408\n",
      "Fair     1225\n",
      "Name: DealType, dtype: int64\n",
      " --- \n",
      "BMW              944\n",
      "Mercedes-Benz    810\n",
      "Toyota           797\n",
      "Honda            713\n",
      "Ford             580\n",
      "Jeep             495\n",
      "Lexus            484\n",
      "Audi             424\n",
      "Chevrolet        416\n",
      "Subaru           310\n",
      "Cadillac         299\n",
      "Nissan           251\n",
      "GMC              250\n",
      "Kia              240\n",
      "Acura            231\n",
      "INFINITI         216\n",
      "Hyundai          212\n",
      "Mazda            205\n",
      "Tesla            186\n",
      "Land             174\n",
      "Volvo            148\n",
      "RAM              145\n",
      "Dodge            145\n",
      "Volkswagen       140\n",
      "Porsche          134\n",
      "Lincoln          120\n",
      "Buick            114\n",
      "Chrysler          39\n",
      "Alfa              38\n",
      "Jaguar            30\n",
      "Mitsubishi        20\n",
      "Genesis           19\n",
      "Maserati          15\n",
      "Lamborghini       14\n",
      "Bentley            6\n",
      "MINI               5\n",
      "Scion              4\n",
      "FIAT               2\n",
      "Mercury            2\n",
      "Saturn             1\n",
      "Ferrari            1\n",
      "Name: Make, dtype: int64\n",
      "TX          1225\n",
      "FL           888\n",
      "CA           668\n",
      "IL           593\n",
      "NY           440\n",
      "GA           392\n",
      "AZ           344\n",
      "VA           340\n",
      "NJ           337\n",
      "OH           329\n",
      "MD           323\n",
      "MA           320\n",
      "PA           282\n",
      "MI           268\n",
      "NC           229\n",
      "MN           228\n",
      "IN           183\n",
      "MO           170\n",
      "TN           166\n",
      "WA           165\n",
      "SC           163\n",
      "CO           158\n",
      "WI           127\n",
      "CT            99\n",
      "NV            93\n",
      "KS            81\n",
      "NH            80\n",
      "KY            79\n",
      "UT            73\n",
      "AL            72\n",
      "LA            51\n",
      "OK            45\n",
      "AR            41\n",
      "OR            37\n",
      "NE            37\n",
      "IA            35\n",
      "RI            35\n",
      "ID            28\n",
      "SD            23\n",
      "MS            23\n",
      "HI            16\n",
      "ND            14\n",
      "WV            13\n",
      "RT            13\n",
      "DE            13\n",
      "ME             8\n",
      "VT             7\n",
      "NM             5\n",
      "MT             4\n",
      "WY             3\n",
      "Michigan       2\n",
      "Bldg           2\n",
      "AZ-101         2\n",
      "Suite          2\n",
      "US-12          1\n",
      "Glens          1\n",
      "SE             1\n",
      "AK             1\n",
      "US-169         1\n",
      "Name: State, dtype: int64\n",
      "<class 'pandas.core.frame.DataFrame'>\n",
      "RangeIndex: 9379 entries, 0 to 9378\n",
      "Data columns (total 32 columns):\n",
      " #   Column                 Non-Null Count  Dtype  \n",
      "---  ------                 --------------  -----  \n",
      " 0   Year                   9379 non-null   int64  \n",
      " 1   Make                   9379 non-null   object \n",
      " 2   Model                  9379 non-null   object \n",
      " 3   Used/New               9379 non-null   object \n",
      " 4   Price                  9379 non-null   object \n",
      " 5   ConsumerRating         9379 non-null   float64\n",
      " 6   ConsumerReviews        9379 non-null   int64  \n",
      " 7   SellerType             9379 non-null   object \n",
      " 8   SellerName             9379 non-null   object \n",
      " 9   SellerRating           9379 non-null   float64\n",
      " 10  SellerReviews          9379 non-null   int64  \n",
      " 11  StreetName             9379 non-null   object \n",
      " 12  State                  9379 non-null   object \n",
      " 13  Zipcode                9379 non-null   object \n",
      " 14  DealType               9157 non-null   object \n",
      " 15  ComfortRating          9379 non-null   float64\n",
      " 16  InteriorDesignRating   9379 non-null   float64\n",
      " 17  PerformanceRating      9379 non-null   float64\n",
      " 18  ValueForMoneyRating    9379 non-null   float64\n",
      " 19  ExteriorStylingRating  9379 non-null   float64\n",
      " 20  ReliabilityRating      9379 non-null   float64\n",
      " 21  ExteriorColor          9379 non-null   object \n",
      " 22  InteriorColor          9379 non-null   object \n",
      " 23  Drivetrain             9379 non-null   object \n",
      " 24  MinMPG                 9379 non-null   int64  \n",
      " 25  MaxMPG                 9379 non-null   int64  \n",
      " 26  FuelType               9379 non-null   object \n",
      " 27  Transmission           9379 non-null   object \n",
      " 28  Engine                 9379 non-null   object \n",
      " 29  VIN                    9379 non-null   object \n",
      " 30  Stock#                 9379 non-null   object \n",
      " 31  Mileage                9379 non-null   int64  \n",
      "dtypes: float64(8), int64(6), object(18)\n",
      "memory usage: 2.3+ MB\n",
      "None\n"
     ]
    }
   ],
   "source": [
    "#Further Explore dataset\n",
    "print(cars_data.describe(), end = '\\n --- \\n')\n",
    "print(cars_data.isna().sum(), end = '\\n --- \\n')\n",
    "print(cars_data['DealType'].value_counts(), end = '\\n --- \\n')\n",
    "print(cars_data['Make'].value_counts())\n",
    "print(cars_data['State'].value_counts())\n",
    "print(cars_data.info())"
   ]
  },
  {
   "cell_type": "markdown",
   "id": "30168845-2360-4ccb-b4a2-2578d69cf32f",
   "metadata": {
    "tags": []
   },
   "source": [
    "## Data Cleaning"
   ]
  },
  {
   "cell_type": "code",
   "execution_count": 23,
   "id": "ce75a7f5-44c8-49a7-8c43-e84f5dd3a9a5",
   "metadata": {},
   "outputs": [
    {
     "name": "stdout",
     "output_type": "stream",
     "text": [
      "3       NaN\n",
      "14      NaN\n",
      "17      NaN\n",
      "21      NaN\n",
      "22      NaN\n",
      "       ... \n",
      "8913    NaN\n",
      "9138    NaN\n",
      "9171    NaN\n",
      "9194    NaN\n",
      "9305    NaN\n",
      "Name: DealType, Length: 222, dtype: object\n",
      "Good                 5524\n",
      "Great                2408\n",
      "Fair                 1225\n",
      "No Data Available     222\n",
      "Name: DealType, dtype: int64\n"
     ]
    }
   ],
   "source": [
    "#Reclassify missing values in DeatlType column\n",
    "print(cars_data[cars_data['DealType'].isna()]['DealType'])\n",
    "cars_data['DealType'].fillna('No Data Available', inplace = True)\n",
    "print(cars_data['DealType'].value_counts())"
   ]
  },
  {
   "cell_type": "code",
   "execution_count": 24,
   "id": "864562e6-34a2-432b-9e8c-f035c841471a",
   "metadata": {},
   "outputs": [
    {
     "name": "stdout",
     "output_type": "stream",
     "text": [
      "<class 'pandas.core.frame.DataFrame'>\n",
      "Int64Index: 9374 entries, 0 to 9378\n",
      "Data columns (total 32 columns):\n",
      " #   Column                 Non-Null Count  Dtype  \n",
      "---  ------                 --------------  -----  \n",
      " 0   Year                   9374 non-null   int64  \n",
      " 1   Make                   9374 non-null   object \n",
      " 2   Model                  9374 non-null   object \n",
      " 3   Used/New               9374 non-null   object \n",
      " 4   Price                  9374 non-null   int64  \n",
      " 5   ConsumerRating         9374 non-null   float64\n",
      " 6   ConsumerReviews        9374 non-null   int64  \n",
      " 7   SellerType             9374 non-null   object \n",
      " 8   SellerName             9374 non-null   object \n",
      " 9   SellerRating           9374 non-null   float64\n",
      " 10  SellerReviews          9374 non-null   int64  \n",
      " 11  StreetName             9374 non-null   object \n",
      " 12  State                  9374 non-null   object \n",
      " 13  Zipcode                9374 non-null   object \n",
      " 14  DealType               9374 non-null   object \n",
      " 15  ComfortRating          9374 non-null   float64\n",
      " 16  InteriorDesignRating   9374 non-null   float64\n",
      " 17  PerformanceRating      9374 non-null   float64\n",
      " 18  ValueForMoneyRating    9374 non-null   float64\n",
      " 19  ExteriorStylingRating  9374 non-null   float64\n",
      " 20  ReliabilityRating      9374 non-null   float64\n",
      " 21  ExteriorColor          9374 non-null   object \n",
      " 22  InteriorColor          9374 non-null   object \n",
      " 23  Drivetrain             9374 non-null   object \n",
      " 24  MinMPG                 9374 non-null   int64  \n",
      " 25  MaxMPG                 9374 non-null   int64  \n",
      " 26  FuelType               9374 non-null   object \n",
      " 27  Transmission           9374 non-null   object \n",
      " 28  Engine                 9374 non-null   object \n",
      " 29  VIN                    9374 non-null   object \n",
      " 30  Stock#                 9374 non-null   object \n",
      " 31  Mileage                9374 non-null   int64  \n",
      "dtypes: float64(8), int64(7), object(17)\n",
      "memory usage: 2.4+ MB\n",
      "None\n"
     ]
    }
   ],
   "source": [
    "#Drop $ ,(,), and 'Not Priced' to make price into an int column\n",
    "price_na_list = cars_data[cars_data['Price'].eq('Not Priced')].index.tolist()\n",
    "cars_data.drop(labels = price_na_list, inplace = True)\n",
    "cars_data['Price'] = cars_data['Price'].str.replace('$', '', regex = False).str.replace(',', '', regex = False)\n",
    "cars_data['Price'] = pd.to_numeric(cars_data['Price'])\n",
    "print(cars_data.info())"
   ]
  },
  {
   "cell_type": "code",
   "execution_count": 25,
   "id": "234445ca-f4a1-4317-a513-b8c3cf00c113",
   "metadata": {},
   "outputs": [
    {
     "name": "stdout",
     "output_type": "stream",
     "text": [
      "TX        1225\n",
      "FL         888\n",
      "CA         668\n",
      "IL         593\n",
      "NY         439\n",
      "GA         392\n",
      "AZ         346\n",
      "VA         338\n",
      "NJ         337\n",
      "OH         328\n",
      "MD         323\n",
      "MA         320\n",
      "PA         282\n",
      "MI         270\n",
      "NC         228\n",
      "MN         228\n",
      "IN         183\n",
      "MO         170\n",
      "TN         166\n",
      "WA         165\n",
      "SC         163\n",
      "CO         158\n",
      "WI         127\n",
      "CT          99\n",
      "NV          93\n",
      "KS          81\n",
      "NH          80\n",
      "KY          79\n",
      "UT          73\n",
      "AL          72\n",
      "LA          51\n",
      "OK          45\n",
      "AR          41\n",
      "OR          37\n",
      "NE          37\n",
      "IA          35\n",
      "RI          35\n",
      "ID          28\n",
      "SD          23\n",
      "MS          23\n",
      "HI          16\n",
      "ND          14\n",
      "DE          13\n",
      "WV          13\n",
      "RT          13\n",
      "ME           8\n",
      "VT           7\n",
      "NM           5\n",
      "MT           4\n",
      "WY           3\n",
      "Bldg         2\n",
      "Suite        2\n",
      "US-12        1\n",
      "Glens        1\n",
      "SE           1\n",
      "AK           1\n",
      "US-169       1\n",
      "Name: State, dtype: int64\n",
      "TX    1225\n",
      "FL     888\n",
      "CA     668\n",
      "IL     593\n",
      "NY     439\n",
      "GA     392\n",
      "AZ     346\n",
      "VA     338\n",
      "NJ     337\n",
      "OH     328\n",
      "MD     323\n",
      "MA     320\n",
      "PA     282\n",
      "MI     270\n",
      "NC     228\n",
      "MN     228\n",
      "IN     183\n",
      "MO     170\n",
      "TN     166\n",
      "WA     165\n",
      "SC     163\n",
      "CO     158\n",
      "WI     127\n",
      "CT      99\n",
      "NV      93\n",
      "KS      81\n",
      "NH      80\n",
      "KY      79\n",
      "UT      73\n",
      "AL      72\n",
      "LA      51\n",
      "OK      45\n",
      "AR      41\n",
      "OR      37\n",
      "NE      37\n",
      "RI      35\n",
      "IA      35\n",
      "ID      28\n",
      "SD      23\n",
      "MS      23\n",
      "HI      16\n",
      "ND      14\n",
      "DE      13\n",
      "RT      13\n",
      "WV      13\n",
      "ME       8\n",
      "VT       7\n",
      "NM       5\n",
      "MT       4\n",
      "WY       3\n",
      "AK       1\n",
      "Name: State, dtype: int64\n"
     ]
    }
   ],
   "source": [
    "#Fix state abbr. column\n",
    "cars_data['State'] = cars_data['State'].str.replace('Michigan', 'MI', regex = False).str.replace('AZ-101', 'AZ', regex = False)\n",
    "print(cars_data['State'].value_counts())\n",
    "misfit_list = ['Bldg', 'Suite', 'US-12', 'Glens', 'SE', 'US-169']\n",
    "misfit_index_list = cars_data[cars_data['State'].isin(misfit_list)].index.tolist()\n",
    "cars_data.drop(labels = misfit_index_list, inplace = True)\n",
    "print(cars_data['State'].value_counts())"
   ]
  },
  {
   "cell_type": "code",
   "execution_count": 26,
   "id": "34bb55f6-9590-4b80-90b2-00de89796561",
   "metadata": {},
   "outputs": [
    {
     "name": "stdout",
     "output_type": "stream",
     "text": [
      "['Used' 'Dodge Certified' 'Acura Certified' 'Honda Certified'\n",
      " 'Mercedes-Benz Certified' 'Ford Certified' 'Toyota Certified'\n",
      " 'BMW Certified' 'Porsche Certified' 'Cadillac Certified'\n",
      " 'Volvo Certified' 'Nissan Certified' 'Subaru Certified'\n",
      " 'Volkswagen Certified' 'INFINITI Certified' 'Chevrolet Certified'\n",
      " 'Kia Certified' 'RAM Certified' 'Jeep Certified' 'GMC Certified'\n",
      " 'Buick Certified' 'Alfa Romeo Certified' 'Bentley Certified'\n",
      " 'MINI Certified' 'Ferrari Certified' 'Maserati Certified']\n",
      " --- \n",
      "['Used' 'Certified']\n"
     ]
    }
   ],
   "source": [
    "#Simplify Used/New column categories\n",
    "print(cars_data['Used/New'].unique(), end = '\\n --- \\n')\n",
    "cars_data['Used/New'] = cars_data['Used/New'].apply(lambda x: 'Certified' if 'Certified' in x else x)\n",
    "print(cars_data['Used/New'].unique())"
   ]
  },
  {
   "cell_type": "code",
   "execution_count": 27,
   "id": "a35ad578-52f4-4dbc-8743-690e9b16db7d",
   "metadata": {},
   "outputs": [
    {
     "name": "stdout",
     "output_type": "stream",
     "text": [
      "['Gasoline' 'Gasoline Fuel' 'Electric Fuel System' 'E85 Flex Fuel'\n",
      " 'Electric' 'Hybrid' 'Plug-In Electric/Gas' '–' 'Flex Fuel Capability'\n",
      " 'Diesel' 'Diesel Fuel' 'Gasoline/Mild Electric Hybrid' 'Flexible Fuel']\n",
      "['Gasoline' 'Electric' 'Flex' 'Hybrid']\n"
     ]
    }
   ],
   "source": [
    "#Simplify FuelType column to a few categories\n",
    "print(cars_data['FuelType'].unique())\n",
    "\n",
    "def fuel_classer(x):\n",
    "    if x == 'Gasoline' or x == 'Gasoline Fuel':\n",
    "        return 'Gasoline'\n",
    "    if x == 'Electric Fuel System' or x == 'Electric':\n",
    "        return 'Electric'\n",
    "    if x == 'Flexible Fuel' or x == 'E85 Flex Fuel':\n",
    "        return 'Flex'\n",
    "    else:\n",
    "        return 'Hybrid'\n",
    "\n",
    "cars_data['FuelType'] = cars_data['FuelType'].apply(fuel_classer)\n",
    "print(cars_data['FuelType'].unique())"
   ]
  },
  {
   "cell_type": "code",
   "execution_count": 28,
   "id": "9eeab04d-999d-4455-ac1a-2f1f2fb1beed",
   "metadata": {},
   "outputs": [
    {
     "name": "stdout",
     "output_type": "stream",
     "text": [
      "['Front-wheel Drive' 'Four-wheel Drive' 'Rear-wheel Drive'\n",
      " 'All-wheel Drive' '4WD' 'AWD' 'RWD' 'FWD' 'Front Wheel Drive' '–']\n",
      "['FWD' '4WD' 'RWD' 'AWD']\n"
     ]
    }
   ],
   "source": [
    "#Simplify Drivetrain column\n",
    "print(cars_data['Drivetrain'].unique())\n",
    "cars_data.drop(cars_data[cars_data['Drivetrain'] == '–'].index.tolist(), inplace = True)\n",
    "\n",
    "def drivetrain_classer(x):\n",
    "    if x == 'Front-wheel Drive' or x == 'Front Wheel Drive' or x == 'FWD':\n",
    "        return 'FWD'\n",
    "    if x == 'Rear-wheel Drive' or x == 'RWD':\n",
    "        return 'RWD'\n",
    "    if x == 'All-wheel Drive' or x == 'AWD':\n",
    "        return 'AWD'\n",
    "    if x == 'Four-wheel Drive' or x == '4WD':\n",
    "        return '4WD'\n",
    "\n",
    "cars_data['Drivetrain'] = cars_data['Drivetrain'].apply(drivetrain_classer)\n",
    "print(cars_data['Drivetrain'].unique())"
   ]
  },
  {
   "cell_type": "code",
   "execution_count": 29,
   "id": "92800c97-f102-4b92-be61-5f0cc7febafa",
   "metadata": {},
   "outputs": [
    {
     "name": "stdout",
     "output_type": "stream",
     "text": [
      "['8-Speed Automatic' '10-Speed Automatic' 'Automatic CVT'\n",
      " '5-Speed Automatic' '7-Speed Automatic' '9-Speed Automatic'\n",
      " '6-Speed Automatic' 'Automatic' '6-Speed A/T'\n",
      " '7-Speed Automatic with Auto-Shift' 'Transmission w/Dual Shift Mode'\n",
      " '7-Speed A/T' 'A/T' '8-SPEED A/T' '8-Speed Automatic with Auto-Shift'\n",
      " '8-Speed A/T' '1-Speed A/T' '9-SPEED A/T'\n",
      " 'driver adaptive 7 speed automatic' '6-SPEED A/T' '5-SPEED M/T'\n",
      " '4-Speed Automatic' '6-Speed M/T' '8 speed tiptronic s automatic'\n",
      " '1-Speed Automatic' 'Automatic with Overdrive' 'CVT 7-Speed'\n",
      " 'Automatic 5-Speed' '9-Speed A/T' '–' 'CVT' 'Variable' 'sport automatic'\n",
      " 'Manual' '6-Speed Automatic with Auto-Shift' '6-Speed Manual'\n",
      " '5-SPEED A/T' '6-Speed Automatic with Overdrive' '7-SPEED A/T'\n",
      " '9g tronic automatic' '5-Speed Manual' 'Automatic 6-Speed'\n",
      " '1 speed automatic' 'CVT Lineartronic' '10-Speed A/T' 'CVT 6-Speed'\n",
      " 'Automatic with Tiptronic' '8 speed automatic w/sportmatic' 'A'\n",
      " 'AUTOMATIC' '7-Speed' '9 speed automatic' 'automatic' '10-SPEED A/T'\n",
      " '8 speed automatic' 'Lineartronic CVT' '8-Speed Automatic Sport'\n",
      " 'xtronic continuously variable (cvt)' '6-Speed Automatic with Shiftronic'\n",
      " '10-Speed Automatic with Overdrive' 'M/T'\n",
      " '6-Speed Automatic Electronic with Overdrive'\n",
      " '7-Speed Porsche Doppelkupplung (PDK)' 'CVT with Xtronic'\n",
      " '7-Speed Automatic S tronic' '4-SPEED A/T' '1-SPEED A/T' '6 speed manual'\n",
      " 'xtronic cvt (continuously variable)' 'Auto, 7-Spd Rev Matching'\n",
      " '10 speed automatic w/selectshift' '8-Speed Automatic with Tiptronic'\n",
      " '6 speed automatic w/sportmatic'\n",
      " 'Close Ratio ZF 8-Speed Automatic with Quickshift'\n",
      " 'continuously variable w/sport mode' 'xtronic cvt automatic'\n",
      " '7-Speed Double-clutch' '7-Speed Manual' 'Auto, 7-Spd 7G-Tronic +'\n",
      " '2-Speed Automatic' '6-Speed Automatic with Tiptronic'\n",
      " '6-Speed Shiftable Automatic' 'continuously variable (cvti s)'\n",
      " 'Allison 1000 6-Speed Automatic' 'Shiftable Automatic'\n",
      " '9-Speed Shiftable Automatic'\n",
      " '6-Speed Automatic with Sequential Shift ECT' 'Automatic 4-Speed'\n",
      " '6 speed selectshift automatic' 'xtronic cvt'\n",
      " '6-Speed Electronically Controlled Automatic with O'\n",
      " '8 Speed Paddle Shift with Automatic Modes' 'Auto 8-Spd Spt Steptrnc']\n",
      " --- \n",
      "['Automatic' 'Manual']\n"
     ]
    }
   ],
   "source": [
    "#Simplify Transmission column\n",
    "\n",
    "print(cars_data['Transmission'].unique(), end = '\\n --- \\n')\n",
    "cars_data.drop(cars_data[cars_data['Transmission'] == '-'].index, inplace = True)\n",
    "\n",
    "def trans_classer(x):\n",
    "    if 'AUTOMATIC' in x or 'Automatic' in x or 'automatic' in x or 'CVT' in x or 'cvt' in x or 'variable' in x or 'Auto' in x or 'auto' in x or 'A/T' in x:\n",
    "        return 'Automatic'\n",
    "    if 'M/T' in x or 'manual' in x or 'Manual' in x or 'Dual Shift' in x or 'Double-clutch' in x or 'PDK' in x:\n",
    "        return 'Manual'\n",
    "    else:\n",
    "        return 'Automatic'\n",
    "\n",
    "cars_data['Transmission'] = cars_data['Transmission'].apply(trans_classer)\n",
    "print(cars_data['Transmission'].unique())"
   ]
  },
  {
   "cell_type": "code",
   "execution_count": 30,
   "id": "73495153-e51a-45b2-9d88-8463bd0bed0e",
   "metadata": {},
   "outputs": [
    {
     "data": {
      "text/html": [
       "<div>\n",
       "<style scoped>\n",
       "    .dataframe tbody tr th:only-of-type {\n",
       "        vertical-align: middle;\n",
       "    }\n",
       "\n",
       "    .dataframe tbody tr th {\n",
       "        vertical-align: top;\n",
       "    }\n",
       "\n",
       "    .dataframe thead th {\n",
       "        text-align: right;\n",
       "    }\n",
       "</style>\n",
       "<table border=\"1\" class=\"dataframe\">\n",
       "  <thead>\n",
       "    <tr style=\"text-align: right;\">\n",
       "      <th></th>\n",
       "      <th>Year</th>\n",
       "      <th>Make</th>\n",
       "      <th>Model</th>\n",
       "      <th>Used/New</th>\n",
       "      <th>Price</th>\n",
       "      <th>ConsumerRating</th>\n",
       "      <th>ConsumerReviews</th>\n",
       "      <th>SellerType</th>\n",
       "      <th>SellerRating</th>\n",
       "      <th>SellerReviews</th>\n",
       "      <th>StreetName</th>\n",
       "      <th>State</th>\n",
       "      <th>Zipcode</th>\n",
       "      <th>DealType</th>\n",
       "      <th>ComfortRating</th>\n",
       "      <th>InteriorDesignRating</th>\n",
       "      <th>PerformanceRating</th>\n",
       "      <th>ValueForMoneyRating</th>\n",
       "      <th>ExteriorStylingRating</th>\n",
       "      <th>ReliabilityRating</th>\n",
       "      <th>Drivetrain</th>\n",
       "      <th>MinMPG</th>\n",
       "      <th>MaxMPG</th>\n",
       "      <th>FuelType</th>\n",
       "      <th>Transmission</th>\n",
       "      <th>Engine</th>\n",
       "      <th>Mileage</th>\n",
       "    </tr>\n",
       "  </thead>\n",
       "  <tbody>\n",
       "    <tr>\n",
       "      <th>0</th>\n",
       "      <td>2019</td>\n",
       "      <td>Toyota</td>\n",
       "      <td>Sienna SE</td>\n",
       "      <td>Used</td>\n",
       "      <td>39998</td>\n",
       "      <td>4.6</td>\n",
       "      <td>45</td>\n",
       "      <td>Dealer</td>\n",
       "      <td>3.3</td>\n",
       "      <td>3</td>\n",
       "      <td>25560 Madison Ave Murrieta</td>\n",
       "      <td>CA</td>\n",
       "      <td>92562</td>\n",
       "      <td>Great</td>\n",
       "      <td>4.7</td>\n",
       "      <td>4.6</td>\n",
       "      <td>4.6</td>\n",
       "      <td>4.4</td>\n",
       "      <td>4.6</td>\n",
       "      <td>4.7</td>\n",
       "      <td>FWD</td>\n",
       "      <td>19</td>\n",
       "      <td>27</td>\n",
       "      <td>Gasoline</td>\n",
       "      <td>Automatic</td>\n",
       "      <td>3.5L V6 24V PDI DOHC</td>\n",
       "      <td>29403</td>\n",
       "    </tr>\n",
       "    <tr>\n",
       "      <th>1</th>\n",
       "      <td>2018</td>\n",
       "      <td>Ford</td>\n",
       "      <td>F-150 Lariat</td>\n",
       "      <td>Used</td>\n",
       "      <td>49985</td>\n",
       "      <td>4.8</td>\n",
       "      <td>817</td>\n",
       "      <td>Dealer</td>\n",
       "      <td>4.8</td>\n",
       "      <td>131</td>\n",
       "      <td>1001 S Ben Maddox Way Visalia</td>\n",
       "      <td>CA</td>\n",
       "      <td>93292</td>\n",
       "      <td>Good</td>\n",
       "      <td>4.9</td>\n",
       "      <td>4.8</td>\n",
       "      <td>4.8</td>\n",
       "      <td>4.6</td>\n",
       "      <td>4.8</td>\n",
       "      <td>4.7</td>\n",
       "      <td>4WD</td>\n",
       "      <td>19</td>\n",
       "      <td>24</td>\n",
       "      <td>Gasoline</td>\n",
       "      <td>Automatic</td>\n",
       "      <td>3.5L V6 24V PDI DOHC Twin Turbo</td>\n",
       "      <td>32929</td>\n",
       "    </tr>\n",
       "    <tr>\n",
       "      <th>2</th>\n",
       "      <td>2017</td>\n",
       "      <td>RAM</td>\n",
       "      <td>1500 Laramie</td>\n",
       "      <td>Used</td>\n",
       "      <td>41860</td>\n",
       "      <td>4.7</td>\n",
       "      <td>495</td>\n",
       "      <td>Dealer</td>\n",
       "      <td>4.6</td>\n",
       "      <td>249</td>\n",
       "      <td>1100 S Madera Ave Madera</td>\n",
       "      <td>CA</td>\n",
       "      <td>93637</td>\n",
       "      <td>Good</td>\n",
       "      <td>4.8</td>\n",
       "      <td>4.7</td>\n",
       "      <td>4.8</td>\n",
       "      <td>4.6</td>\n",
       "      <td>4.8</td>\n",
       "      <td>4.7</td>\n",
       "      <td>4WD</td>\n",
       "      <td>15</td>\n",
       "      <td>21</td>\n",
       "      <td>Gasoline</td>\n",
       "      <td>Automatic</td>\n",
       "      <td>5.7L V8 16V MPFI OHV</td>\n",
       "      <td>23173</td>\n",
       "    </tr>\n",
       "    <tr>\n",
       "      <th>3</th>\n",
       "      <td>2021</td>\n",
       "      <td>Honda</td>\n",
       "      <td>Accord Sport SE</td>\n",
       "      <td>Used</td>\n",
       "      <td>28500</td>\n",
       "      <td>5.0</td>\n",
       "      <td>36</td>\n",
       "      <td>Dealer</td>\n",
       "      <td>4.6</td>\n",
       "      <td>284</td>\n",
       "      <td>2121 E Sahara Ave Las Vegas</td>\n",
       "      <td>NV</td>\n",
       "      <td>89104</td>\n",
       "      <td>No Data Available</td>\n",
       "      <td>4.9</td>\n",
       "      <td>5.0</td>\n",
       "      <td>4.9</td>\n",
       "      <td>5.0</td>\n",
       "      <td>5.0</td>\n",
       "      <td>5.0</td>\n",
       "      <td>FWD</td>\n",
       "      <td>29</td>\n",
       "      <td>35</td>\n",
       "      <td>Gasoline</td>\n",
       "      <td>Automatic</td>\n",
       "      <td>1.5L I4 16V GDI DOHC Turbo</td>\n",
       "      <td>10598</td>\n",
       "    </tr>\n",
       "    <tr>\n",
       "      <th>4</th>\n",
       "      <td>2020</td>\n",
       "      <td>Lexus</td>\n",
       "      <td>RX 350</td>\n",
       "      <td>Used</td>\n",
       "      <td>49000</td>\n",
       "      <td>4.8</td>\n",
       "      <td>76</td>\n",
       "      <td>Dealer</td>\n",
       "      <td>4.8</td>\n",
       "      <td>4755</td>\n",
       "      <td>7737 Eastgate Rd Henderson</td>\n",
       "      <td>NV</td>\n",
       "      <td>89011</td>\n",
       "      <td>Good</td>\n",
       "      <td>4.9</td>\n",
       "      <td>4.8</td>\n",
       "      <td>4.8</td>\n",
       "      <td>4.7</td>\n",
       "      <td>4.8</td>\n",
       "      <td>4.9</td>\n",
       "      <td>FWD</td>\n",
       "      <td>20</td>\n",
       "      <td>27</td>\n",
       "      <td>Gasoline</td>\n",
       "      <td>Automatic</td>\n",
       "      <td>3.5L V6 24V PDI DOHC</td>\n",
       "      <td>28137</td>\n",
       "    </tr>\n",
       "    <tr>\n",
       "      <th>...</th>\n",
       "      <td>...</td>\n",
       "      <td>...</td>\n",
       "      <td>...</td>\n",
       "      <td>...</td>\n",
       "      <td>...</td>\n",
       "      <td>...</td>\n",
       "      <td>...</td>\n",
       "      <td>...</td>\n",
       "      <td>...</td>\n",
       "      <td>...</td>\n",
       "      <td>...</td>\n",
       "      <td>...</td>\n",
       "      <td>...</td>\n",
       "      <td>...</td>\n",
       "      <td>...</td>\n",
       "      <td>...</td>\n",
       "      <td>...</td>\n",
       "      <td>...</td>\n",
       "      <td>...</td>\n",
       "      <td>...</td>\n",
       "      <td>...</td>\n",
       "      <td>...</td>\n",
       "      <td>...</td>\n",
       "      <td>...</td>\n",
       "      <td>...</td>\n",
       "      <td>...</td>\n",
       "      <td>...</td>\n",
       "    </tr>\n",
       "    <tr>\n",
       "      <th>9374</th>\n",
       "      <td>2019</td>\n",
       "      <td>Subaru</td>\n",
       "      <td>Crosstrek 2.0i Premium</td>\n",
       "      <td>Used</td>\n",
       "      <td>27374</td>\n",
       "      <td>4.7</td>\n",
       "      <td>205</td>\n",
       "      <td>Dealer</td>\n",
       "      <td>4.4</td>\n",
       "      <td>443</td>\n",
       "      <td>657 Riverdale St. West Springfield</td>\n",
       "      <td>MA</td>\n",
       "      <td>01089</td>\n",
       "      <td>Good</td>\n",
       "      <td>4.7</td>\n",
       "      <td>4.7</td>\n",
       "      <td>4.6</td>\n",
       "      <td>4.7</td>\n",
       "      <td>4.8</td>\n",
       "      <td>4.8</td>\n",
       "      <td>AWD</td>\n",
       "      <td>27</td>\n",
       "      <td>33</td>\n",
       "      <td>Gasoline</td>\n",
       "      <td>Automatic</td>\n",
       "      <td>2.0L H4 16V GDI DOHC</td>\n",
       "      <td>15606</td>\n",
       "    </tr>\n",
       "    <tr>\n",
       "      <th>9375</th>\n",
       "      <td>2019</td>\n",
       "      <td>Audi</td>\n",
       "      <td>Q8 3.0T Premium</td>\n",
       "      <td>Used</td>\n",
       "      <td>61998</td>\n",
       "      <td>4.8</td>\n",
       "      <td>27</td>\n",
       "      <td>Dealer</td>\n",
       "      <td>4.8</td>\n",
       "      <td>1789</td>\n",
       "      <td>88 Turnpike Road Westboro</td>\n",
       "      <td>MA</td>\n",
       "      <td>01581</td>\n",
       "      <td>Fair</td>\n",
       "      <td>4.9</td>\n",
       "      <td>4.8</td>\n",
       "      <td>4.8</td>\n",
       "      <td>4.6</td>\n",
       "      <td>5.0</td>\n",
       "      <td>4.9</td>\n",
       "      <td>AWD</td>\n",
       "      <td>17</td>\n",
       "      <td>22</td>\n",
       "      <td>Hybrid</td>\n",
       "      <td>Automatic</td>\n",
       "      <td>3.0L V6 24V GDI DOHC Turbo Hybrid</td>\n",
       "      <td>46855</td>\n",
       "    </tr>\n",
       "    <tr>\n",
       "      <th>9376</th>\n",
       "      <td>2017</td>\n",
       "      <td>Buick</td>\n",
       "      <td>Enclave Leather</td>\n",
       "      <td>Used</td>\n",
       "      <td>26944</td>\n",
       "      <td>4.8</td>\n",
       "      <td>137</td>\n",
       "      <td>Dealer</td>\n",
       "      <td>4.7</td>\n",
       "      <td>831</td>\n",
       "      <td>147 Daniel Webster Hwy Nashua</td>\n",
       "      <td>NH</td>\n",
       "      <td>03060</td>\n",
       "      <td>Good</td>\n",
       "      <td>4.9</td>\n",
       "      <td>4.8</td>\n",
       "      <td>4.7</td>\n",
       "      <td>4.6</td>\n",
       "      <td>4.9</td>\n",
       "      <td>4.8</td>\n",
       "      <td>AWD</td>\n",
       "      <td>15</td>\n",
       "      <td>22</td>\n",
       "      <td>Gasoline</td>\n",
       "      <td>Automatic</td>\n",
       "      <td>3.6L V6 24V GDI DOHC</td>\n",
       "      <td>62649</td>\n",
       "    </tr>\n",
       "    <tr>\n",
       "      <th>9377</th>\n",
       "      <td>2019</td>\n",
       "      <td>Subaru</td>\n",
       "      <td>Forester Premium</td>\n",
       "      <td>Used</td>\n",
       "      <td>28568</td>\n",
       "      <td>4.7</td>\n",
       "      <td>279</td>\n",
       "      <td>Dealer</td>\n",
       "      <td>4.4</td>\n",
       "      <td>680</td>\n",
       "      <td>97 Andover St Danvers</td>\n",
       "      <td>MA</td>\n",
       "      <td>01923</td>\n",
       "      <td>Good</td>\n",
       "      <td>4.8</td>\n",
       "      <td>4.7</td>\n",
       "      <td>4.6</td>\n",
       "      <td>4.7</td>\n",
       "      <td>4.7</td>\n",
       "      <td>4.8</td>\n",
       "      <td>AWD</td>\n",
       "      <td>26</td>\n",
       "      <td>33</td>\n",
       "      <td>Gasoline</td>\n",
       "      <td>Automatic</td>\n",
       "      <td>2.5L H4 16V GDI DOHC</td>\n",
       "      <td>30760</td>\n",
       "    </tr>\n",
       "    <tr>\n",
       "      <th>9378</th>\n",
       "      <td>2019</td>\n",
       "      <td>Hyundai</td>\n",
       "      <td>Santa Fe Ultimate 2.4</td>\n",
       "      <td>Used</td>\n",
       "      <td>32091</td>\n",
       "      <td>4.8</td>\n",
       "      <td>204</td>\n",
       "      <td>Dealer</td>\n",
       "      <td>4.4</td>\n",
       "      <td>1105</td>\n",
       "      <td>1094 New State Hwy Raynham</td>\n",
       "      <td>MA</td>\n",
       "      <td>02767</td>\n",
       "      <td>Good</td>\n",
       "      <td>4.9</td>\n",
       "      <td>4.9</td>\n",
       "      <td>4.6</td>\n",
       "      <td>4.8</td>\n",
       "      <td>4.9</td>\n",
       "      <td>4.8</td>\n",
       "      <td>AWD</td>\n",
       "      <td>21</td>\n",
       "      <td>27</td>\n",
       "      <td>Gasoline</td>\n",
       "      <td>Automatic</td>\n",
       "      <td>2.4L I4 16V GDI DOHC</td>\n",
       "      <td>41645</td>\n",
       "    </tr>\n",
       "  </tbody>\n",
       "</table>\n",
       "<p>9359 rows × 27 columns</p>\n",
       "</div>"
      ],
      "text/plain": [
       "      Year     Make                   Model Used/New  Price  ConsumerRating  \\\n",
       "0     2019   Toyota               Sienna SE     Used  39998             4.6   \n",
       "1     2018     Ford            F-150 Lariat     Used  49985             4.8   \n",
       "2     2017      RAM            1500 Laramie     Used  41860             4.7   \n",
       "3     2021    Honda         Accord Sport SE     Used  28500             5.0   \n",
       "4     2020    Lexus                  RX 350     Used  49000             4.8   \n",
       "...    ...      ...                     ...      ...    ...             ...   \n",
       "9374  2019   Subaru  Crosstrek 2.0i Premium     Used  27374             4.7   \n",
       "9375  2019     Audi         Q8 3.0T Premium     Used  61998             4.8   \n",
       "9376  2017    Buick         Enclave Leather     Used  26944             4.8   \n",
       "9377  2019   Subaru        Forester Premium     Used  28568             4.7   \n",
       "9378  2019  Hyundai   Santa Fe Ultimate 2.4     Used  32091             4.8   \n",
       "\n",
       "      ConsumerReviews SellerType  SellerRating  SellerReviews  \\\n",
       "0                  45     Dealer           3.3              3   \n",
       "1                 817     Dealer           4.8            131   \n",
       "2                 495     Dealer           4.6            249   \n",
       "3                  36     Dealer           4.6            284   \n",
       "4                  76     Dealer           4.8           4755   \n",
       "...               ...        ...           ...            ...   \n",
       "9374              205     Dealer           4.4            443   \n",
       "9375               27     Dealer           4.8           1789   \n",
       "9376              137     Dealer           4.7            831   \n",
       "9377              279     Dealer           4.4            680   \n",
       "9378              204     Dealer           4.4           1105   \n",
       "\n",
       "                              StreetName State Zipcode           DealType  \\\n",
       "0             25560 Madison Ave Murrieta    CA   92562              Great   \n",
       "1          1001 S Ben Maddox Way Visalia    CA   93292               Good   \n",
       "2               1100 S Madera Ave Madera    CA   93637               Good   \n",
       "3            2121 E Sahara Ave Las Vegas    NV   89104  No Data Available   \n",
       "4             7737 Eastgate Rd Henderson    NV   89011               Good   \n",
       "...                                  ...   ...     ...                ...   \n",
       "9374  657 Riverdale St. West Springfield    MA   01089               Good   \n",
       "9375           88 Turnpike Road Westboro    MA   01581               Fair   \n",
       "9376       147 Daniel Webster Hwy Nashua    NH   03060               Good   \n",
       "9377               97 Andover St Danvers    MA   01923               Good   \n",
       "9378          1094 New State Hwy Raynham    MA   02767               Good   \n",
       "\n",
       "      ComfortRating  InteriorDesignRating  PerformanceRating  \\\n",
       "0               4.7                   4.6                4.6   \n",
       "1               4.9                   4.8                4.8   \n",
       "2               4.8                   4.7                4.8   \n",
       "3               4.9                   5.0                4.9   \n",
       "4               4.9                   4.8                4.8   \n",
       "...             ...                   ...                ...   \n",
       "9374            4.7                   4.7                4.6   \n",
       "9375            4.9                   4.8                4.8   \n",
       "9376            4.9                   4.8                4.7   \n",
       "9377            4.8                   4.7                4.6   \n",
       "9378            4.9                   4.9                4.6   \n",
       "\n",
       "      ValueForMoneyRating  ExteriorStylingRating  ReliabilityRating  \\\n",
       "0                     4.4                    4.6                4.7   \n",
       "1                     4.6                    4.8                4.7   \n",
       "2                     4.6                    4.8                4.7   \n",
       "3                     5.0                    5.0                5.0   \n",
       "4                     4.7                    4.8                4.9   \n",
       "...                   ...                    ...                ...   \n",
       "9374                  4.7                    4.8                4.8   \n",
       "9375                  4.6                    5.0                4.9   \n",
       "9376                  4.6                    4.9                4.8   \n",
       "9377                  4.7                    4.7                4.8   \n",
       "9378                  4.8                    4.9                4.8   \n",
       "\n",
       "     Drivetrain  MinMPG  MaxMPG  FuelType Transmission  \\\n",
       "0           FWD      19      27  Gasoline    Automatic   \n",
       "1           4WD      19      24  Gasoline    Automatic   \n",
       "2           4WD      15      21  Gasoline    Automatic   \n",
       "3           FWD      29      35  Gasoline    Automatic   \n",
       "4           FWD      20      27  Gasoline    Automatic   \n",
       "...         ...     ...     ...       ...          ...   \n",
       "9374        AWD      27      33  Gasoline    Automatic   \n",
       "9375        AWD      17      22    Hybrid    Automatic   \n",
       "9376        AWD      15      22  Gasoline    Automatic   \n",
       "9377        AWD      26      33  Gasoline    Automatic   \n",
       "9378        AWD      21      27  Gasoline    Automatic   \n",
       "\n",
       "                                 Engine  Mileage  \n",
       "0                  3.5L V6 24V PDI DOHC    29403  \n",
       "1       3.5L V6 24V PDI DOHC Twin Turbo    32929  \n",
       "2                  5.7L V8 16V MPFI OHV    23173  \n",
       "3            1.5L I4 16V GDI DOHC Turbo    10598  \n",
       "4                  3.5L V6 24V PDI DOHC    28137  \n",
       "...                                 ...      ...  \n",
       "9374               2.0L H4 16V GDI DOHC    15606  \n",
       "9375  3.0L V6 24V GDI DOHC Turbo Hybrid    46855  \n",
       "9376               3.6L V6 24V GDI DOHC    62649  \n",
       "9377               2.5L H4 16V GDI DOHC    30760  \n",
       "9378               2.4L I4 16V GDI DOHC    41645  \n",
       "\n",
       "[9359 rows x 27 columns]"
      ]
     },
     "execution_count": 30,
     "metadata": {},
     "output_type": "execute_result"
    }
   ],
   "source": [
    "#Remove personal information/less useful columns\n",
    "cars_data.drop(['InteriorColor', 'ExteriorColor', 'SellerName', 'VIN', 'Stock#'], inplace = True, axis = 1)\n",
    "cars_data"
   ]
  },
  {
   "cell_type": "markdown",
   "id": "0e1ee7c4-9fa5-46a8-aa72-c13b229ffa98",
   "metadata": {
    "tags": []
   },
   "source": [
    "## Data Visualization"
   ]
  },
  {
   "cell_type": "code",
   "execution_count": 38,
   "id": "529afaad-f071-4177-8433-70020b8d3de0",
   "metadata": {},
   "outputs": [
    {
     "data": {
      "application/vnd.plotly.v1+json": {
       "config": {
        "plotlyServerURL": "https://plot.ly"
       },
       "data": [
        {
         "hovertemplate": "FuelType=Gasoline<br>Model Year=%{x}<br>Average Price=%{y}<extra></extra>",
         "legendgroup": "Gasoline",
         "marker": {
          "color": "#636efa",
          "symbol": "circle"
         },
         "mode": "markers",
         "name": "Gasoline",
         "orientation": "v",
         "showlegend": true,
         "type": "scatter",
         "x": [
          2001,
          2002,
          2003,
          2004,
          2005,
          2006,
          2007,
          2008,
          2009,
          2010,
          2011,
          2012,
          2013,
          2014,
          2015,
          2016,
          2017,
          2018,
          2019,
          2020,
          2021,
          2022
         ],
         "xaxis": "x",
         "y": [
          5995,
          22900,
          10337.857142857143,
          8415.444444444445,
          9735.363636363636,
          9512.125,
          11138.75,
          17852.785714285714,
          13279,
          15505.433333333332,
          14236.973684210527,
          18409.241379310344,
          23674.17,
          23067.840336134454,
          31070.858447488583,
          31122.06309148265,
          32968.11538461538,
          35433.36102868447,
          39740.41427218188,
          42213.619047619046,
          48767.58957654723,
          51618.775
         ],
         "yaxis": "y"
        },
        {
         "hovertemplate": "FuelType=Flex<br>Model Year=%{x}<br>Average Price=%{y}<extra></extra>",
         "legendgroup": "Flex",
         "marker": {
          "color": "#EF553B",
          "symbol": "circle"
         },
         "mode": "markers",
         "name": "Flex",
         "orientation": "v",
         "showlegend": true,
         "type": "scatter",
         "x": [
          2007,
          2009,
          2010,
          2011,
          2012,
          2013,
          2014,
          2015,
          2016,
          2017,
          2018,
          2019,
          2020
         ],
         "xaxis": "x",
         "y": [
          16500,
          14931,
          7990,
          14738.333333333334,
          18596.88888888889,
          17268,
          40251.875,
          21444.4,
          24524.125,
          30647,
          30814,
          33955.35,
          58279
         ],
         "yaxis": "y"
        },
        {
         "hovertemplate": "FuelType=Hybrid<br>Model Year=%{x}<br>Average Price=%{y}<extra></extra>",
         "legendgroup": "Hybrid",
         "marker": {
          "color": "#00cc96",
          "symbol": "circle"
         },
         "mode": "markers",
         "name": "Hybrid",
         "orientation": "v",
         "showlegend": true,
         "type": "scatter",
         "x": [
          2008,
          2010,
          2012,
          2013,
          2014,
          2015,
          2016,
          2017,
          2018,
          2019,
          2020,
          2021,
          2022
         ],
         "xaxis": "x",
         "y": [
          25000,
          11985,
          9995,
          18326.5,
          22281.333333333332,
          28028.285714285714,
          27627.25,
          36414.166666666664,
          38143.2,
          50524.4,
          52126.92307692308,
          57814.23529411765,
          58425
         ],
         "yaxis": "y"
        },
        {
         "hovertemplate": "FuelType=Electric<br>Model Year=%{x}<br>Average Price=%{y}<extra></extra>",
         "legendgroup": "Electric",
         "marker": {
          "color": "#ab63fa",
          "symbol": "circle"
         },
         "mode": "markers",
         "name": "Electric",
         "orientation": "v",
         "showlegend": true,
         "type": "scatter",
         "x": [
          2016,
          2017,
          2018,
          2019,
          2020,
          2021,
          2022
         ],
         "xaxis": "x",
         "y": [
          72464,
          63980.333333333336,
          63139.88888888889,
          48718.76,
          74726.14285714286,
          73454.66666666667,
          72455.66666666667
         ],
         "yaxis": "y"
        }
       ],
       "layout": {
        "autosize": true,
        "legend": {
         "title": {
          "text": "FuelType"
         },
         "tracegroupgap": 0
        },
        "template": {
         "data": {
          "bar": [
           {
            "error_x": {
             "color": "#2a3f5f"
            },
            "error_y": {
             "color": "#2a3f5f"
            },
            "marker": {
             "line": {
              "color": "#E5ECF6",
              "width": 0.5
             },
             "pattern": {
              "fillmode": "overlay",
              "size": 10,
              "solidity": 0.2
             }
            },
            "type": "bar"
           }
          ],
          "barpolar": [
           {
            "marker": {
             "line": {
              "color": "#E5ECF6",
              "width": 0.5
             },
             "pattern": {
              "fillmode": "overlay",
              "size": 10,
              "solidity": 0.2
             }
            },
            "type": "barpolar"
           }
          ],
          "carpet": [
           {
            "aaxis": {
             "endlinecolor": "#2a3f5f",
             "gridcolor": "white",
             "linecolor": "white",
             "minorgridcolor": "white",
             "startlinecolor": "#2a3f5f"
            },
            "baxis": {
             "endlinecolor": "#2a3f5f",
             "gridcolor": "white",
             "linecolor": "white",
             "minorgridcolor": "white",
             "startlinecolor": "#2a3f5f"
            },
            "type": "carpet"
           }
          ],
          "choropleth": [
           {
            "colorbar": {
             "outlinewidth": 0,
             "ticks": ""
            },
            "type": "choropleth"
           }
          ],
          "contour": [
           {
            "colorbar": {
             "outlinewidth": 0,
             "ticks": ""
            },
            "colorscale": [
             [
              0,
              "#0d0887"
             ],
             [
              0.1111111111111111,
              "#46039f"
             ],
             [
              0.2222222222222222,
              "#7201a8"
             ],
             [
              0.3333333333333333,
              "#9c179e"
             ],
             [
              0.4444444444444444,
              "#bd3786"
             ],
             [
              0.5555555555555556,
              "#d8576b"
             ],
             [
              0.6666666666666666,
              "#ed7953"
             ],
             [
              0.7777777777777778,
              "#fb9f3a"
             ],
             [
              0.8888888888888888,
              "#fdca26"
             ],
             [
              1,
              "#f0f921"
             ]
            ],
            "type": "contour"
           }
          ],
          "contourcarpet": [
           {
            "colorbar": {
             "outlinewidth": 0,
             "ticks": ""
            },
            "type": "contourcarpet"
           }
          ],
          "heatmap": [
           {
            "colorbar": {
             "outlinewidth": 0,
             "ticks": ""
            },
            "colorscale": [
             [
              0,
              "#0d0887"
             ],
             [
              0.1111111111111111,
              "#46039f"
             ],
             [
              0.2222222222222222,
              "#7201a8"
             ],
             [
              0.3333333333333333,
              "#9c179e"
             ],
             [
              0.4444444444444444,
              "#bd3786"
             ],
             [
              0.5555555555555556,
              "#d8576b"
             ],
             [
              0.6666666666666666,
              "#ed7953"
             ],
             [
              0.7777777777777778,
              "#fb9f3a"
             ],
             [
              0.8888888888888888,
              "#fdca26"
             ],
             [
              1,
              "#f0f921"
             ]
            ],
            "type": "heatmap"
           }
          ],
          "heatmapgl": [
           {
            "colorbar": {
             "outlinewidth": 0,
             "ticks": ""
            },
            "colorscale": [
             [
              0,
              "#0d0887"
             ],
             [
              0.1111111111111111,
              "#46039f"
             ],
             [
              0.2222222222222222,
              "#7201a8"
             ],
             [
              0.3333333333333333,
              "#9c179e"
             ],
             [
              0.4444444444444444,
              "#bd3786"
             ],
             [
              0.5555555555555556,
              "#d8576b"
             ],
             [
              0.6666666666666666,
              "#ed7953"
             ],
             [
              0.7777777777777778,
              "#fb9f3a"
             ],
             [
              0.8888888888888888,
              "#fdca26"
             ],
             [
              1,
              "#f0f921"
             ]
            ],
            "type": "heatmapgl"
           }
          ],
          "histogram": [
           {
            "marker": {
             "pattern": {
              "fillmode": "overlay",
              "size": 10,
              "solidity": 0.2
             }
            },
            "type": "histogram"
           }
          ],
          "histogram2d": [
           {
            "colorbar": {
             "outlinewidth": 0,
             "ticks": ""
            },
            "colorscale": [
             [
              0,
              "#0d0887"
             ],
             [
              0.1111111111111111,
              "#46039f"
             ],
             [
              0.2222222222222222,
              "#7201a8"
             ],
             [
              0.3333333333333333,
              "#9c179e"
             ],
             [
              0.4444444444444444,
              "#bd3786"
             ],
             [
              0.5555555555555556,
              "#d8576b"
             ],
             [
              0.6666666666666666,
              "#ed7953"
             ],
             [
              0.7777777777777778,
              "#fb9f3a"
             ],
             [
              0.8888888888888888,
              "#fdca26"
             ],
             [
              1,
              "#f0f921"
             ]
            ],
            "type": "histogram2d"
           }
          ],
          "histogram2dcontour": [
           {
            "colorbar": {
             "outlinewidth": 0,
             "ticks": ""
            },
            "colorscale": [
             [
              0,
              "#0d0887"
             ],
             [
              0.1111111111111111,
              "#46039f"
             ],
             [
              0.2222222222222222,
              "#7201a8"
             ],
             [
              0.3333333333333333,
              "#9c179e"
             ],
             [
              0.4444444444444444,
              "#bd3786"
             ],
             [
              0.5555555555555556,
              "#d8576b"
             ],
             [
              0.6666666666666666,
              "#ed7953"
             ],
             [
              0.7777777777777778,
              "#fb9f3a"
             ],
             [
              0.8888888888888888,
              "#fdca26"
             ],
             [
              1,
              "#f0f921"
             ]
            ],
            "type": "histogram2dcontour"
           }
          ],
          "mesh3d": [
           {
            "colorbar": {
             "outlinewidth": 0,
             "ticks": ""
            },
            "type": "mesh3d"
           }
          ],
          "parcoords": [
           {
            "line": {
             "colorbar": {
              "outlinewidth": 0,
              "ticks": ""
             }
            },
            "type": "parcoords"
           }
          ],
          "pie": [
           {
            "automargin": true,
            "type": "pie"
           }
          ],
          "scatter": [
           {
            "marker": {
             "colorbar": {
              "outlinewidth": 0,
              "ticks": ""
             }
            },
            "type": "scatter"
           }
          ],
          "scatter3d": [
           {
            "line": {
             "colorbar": {
              "outlinewidth": 0,
              "ticks": ""
             }
            },
            "marker": {
             "colorbar": {
              "outlinewidth": 0,
              "ticks": ""
             }
            },
            "type": "scatter3d"
           }
          ],
          "scattercarpet": [
           {
            "marker": {
             "colorbar": {
              "outlinewidth": 0,
              "ticks": ""
             }
            },
            "type": "scattercarpet"
           }
          ],
          "scattergeo": [
           {
            "marker": {
             "colorbar": {
              "outlinewidth": 0,
              "ticks": ""
             }
            },
            "type": "scattergeo"
           }
          ],
          "scattergl": [
           {
            "marker": {
             "colorbar": {
              "outlinewidth": 0,
              "ticks": ""
             }
            },
            "type": "scattergl"
           }
          ],
          "scattermapbox": [
           {
            "marker": {
             "colorbar": {
              "outlinewidth": 0,
              "ticks": ""
             }
            },
            "type": "scattermapbox"
           }
          ],
          "scatterpolar": [
           {
            "marker": {
             "colorbar": {
              "outlinewidth": 0,
              "ticks": ""
             }
            },
            "type": "scatterpolar"
           }
          ],
          "scatterpolargl": [
           {
            "marker": {
             "colorbar": {
              "outlinewidth": 0,
              "ticks": ""
             }
            },
            "type": "scatterpolargl"
           }
          ],
          "scatterternary": [
           {
            "marker": {
             "colorbar": {
              "outlinewidth": 0,
              "ticks": ""
             }
            },
            "type": "scatterternary"
           }
          ],
          "surface": [
           {
            "colorbar": {
             "outlinewidth": 0,
             "ticks": ""
            },
            "colorscale": [
             [
              0,
              "#0d0887"
             ],
             [
              0.1111111111111111,
              "#46039f"
             ],
             [
              0.2222222222222222,
              "#7201a8"
             ],
             [
              0.3333333333333333,
              "#9c179e"
             ],
             [
              0.4444444444444444,
              "#bd3786"
             ],
             [
              0.5555555555555556,
              "#d8576b"
             ],
             [
              0.6666666666666666,
              "#ed7953"
             ],
             [
              0.7777777777777778,
              "#fb9f3a"
             ],
             [
              0.8888888888888888,
              "#fdca26"
             ],
             [
              1,
              "#f0f921"
             ]
            ],
            "type": "surface"
           }
          ],
          "table": [
           {
            "cells": {
             "fill": {
              "color": "#EBF0F8"
             },
             "line": {
              "color": "white"
             }
            },
            "header": {
             "fill": {
              "color": "#C8D4E3"
             },
             "line": {
              "color": "white"
             }
            },
            "type": "table"
           }
          ]
         },
         "layout": {
          "annotationdefaults": {
           "arrowcolor": "#2a3f5f",
           "arrowhead": 0,
           "arrowwidth": 1
          },
          "autotypenumbers": "strict",
          "coloraxis": {
           "colorbar": {
            "outlinewidth": 0,
            "ticks": ""
           }
          },
          "colorscale": {
           "diverging": [
            [
             0,
             "#8e0152"
            ],
            [
             0.1,
             "#c51b7d"
            ],
            [
             0.2,
             "#de77ae"
            ],
            [
             0.3,
             "#f1b6da"
            ],
            [
             0.4,
             "#fde0ef"
            ],
            [
             0.5,
             "#f7f7f7"
            ],
            [
             0.6,
             "#e6f5d0"
            ],
            [
             0.7,
             "#b8e186"
            ],
            [
             0.8,
             "#7fbc41"
            ],
            [
             0.9,
             "#4d9221"
            ],
            [
             1,
             "#276419"
            ]
           ],
           "sequential": [
            [
             0,
             "#0d0887"
            ],
            [
             0.1111111111111111,
             "#46039f"
            ],
            [
             0.2222222222222222,
             "#7201a8"
            ],
            [
             0.3333333333333333,
             "#9c179e"
            ],
            [
             0.4444444444444444,
             "#bd3786"
            ],
            [
             0.5555555555555556,
             "#d8576b"
            ],
            [
             0.6666666666666666,
             "#ed7953"
            ],
            [
             0.7777777777777778,
             "#fb9f3a"
            ],
            [
             0.8888888888888888,
             "#fdca26"
            ],
            [
             1,
             "#f0f921"
            ]
           ],
           "sequentialminus": [
            [
             0,
             "#0d0887"
            ],
            [
             0.1111111111111111,
             "#46039f"
            ],
            [
             0.2222222222222222,
             "#7201a8"
            ],
            [
             0.3333333333333333,
             "#9c179e"
            ],
            [
             0.4444444444444444,
             "#bd3786"
            ],
            [
             0.5555555555555556,
             "#d8576b"
            ],
            [
             0.6666666666666666,
             "#ed7953"
            ],
            [
             0.7777777777777778,
             "#fb9f3a"
            ],
            [
             0.8888888888888888,
             "#fdca26"
            ],
            [
             1,
             "#f0f921"
            ]
           ]
          },
          "colorway": [
           "#636efa",
           "#EF553B",
           "#00cc96",
           "#ab63fa",
           "#FFA15A",
           "#19d3f3",
           "#FF6692",
           "#B6E880",
           "#FF97FF",
           "#FECB52"
          ],
          "font": {
           "color": "#2a3f5f"
          },
          "geo": {
           "bgcolor": "white",
           "lakecolor": "white",
           "landcolor": "#E5ECF6",
           "showlakes": true,
           "showland": true,
           "subunitcolor": "white"
          },
          "hoverlabel": {
           "align": "left"
          },
          "hovermode": "closest",
          "mapbox": {
           "style": "light"
          },
          "paper_bgcolor": "white",
          "plot_bgcolor": "#E5ECF6",
          "polar": {
           "angularaxis": {
            "gridcolor": "white",
            "linecolor": "white",
            "ticks": ""
           },
           "bgcolor": "#E5ECF6",
           "radialaxis": {
            "gridcolor": "white",
            "linecolor": "white",
            "ticks": ""
           }
          },
          "scene": {
           "xaxis": {
            "backgroundcolor": "#E5ECF6",
            "gridcolor": "white",
            "gridwidth": 2,
            "linecolor": "white",
            "showbackground": true,
            "ticks": "",
            "zerolinecolor": "white"
           },
           "yaxis": {
            "backgroundcolor": "#E5ECF6",
            "gridcolor": "white",
            "gridwidth": 2,
            "linecolor": "white",
            "showbackground": true,
            "ticks": "",
            "zerolinecolor": "white"
           },
           "zaxis": {
            "backgroundcolor": "#E5ECF6",
            "gridcolor": "white",
            "gridwidth": 2,
            "linecolor": "white",
            "showbackground": true,
            "ticks": "",
            "zerolinecolor": "white"
           }
          },
          "shapedefaults": {
           "line": {
            "color": "#2a3f5f"
           }
          },
          "ternary": {
           "aaxis": {
            "gridcolor": "white",
            "linecolor": "white",
            "ticks": ""
           },
           "baxis": {
            "gridcolor": "white",
            "linecolor": "white",
            "ticks": ""
           },
           "bgcolor": "#E5ECF6",
           "caxis": {
            "gridcolor": "white",
            "linecolor": "white",
            "ticks": ""
           }
          },
          "title": {
           "x": 0.05
          },
          "xaxis": {
           "automargin": true,
           "gridcolor": "white",
           "linecolor": "white",
           "ticks": "",
           "title": {
            "standoff": 15
           },
           "zerolinecolor": "white",
           "zerolinewidth": 2
          },
          "yaxis": {
           "automargin": true,
           "gridcolor": "white",
           "linecolor": "white",
           "ticks": "",
           "title": {
            "standoff": 15
           },
           "zerolinecolor": "white",
           "zerolinewidth": 2
          }
         }
        },
        "title": {
         "text": "Average Car Price by Model Year and Fuel Type"
        },
        "xaxis": {
         "anchor": "y",
         "autorange": true,
         "domain": [
          0,
          1
         ],
         "range": [
          1999.6885856079405,
          2023.3114143920595
         ],
         "title": {
          "text": "Model Year"
         },
         "type": "linear"
        },
        "yaxis": {
         "anchor": "x",
         "autorange": true,
         "domain": [
          0,
          1
         ],
         "range": [
          323.01248266296807,
          80398.1303744799
         ],
         "title": {
          "text": "Average Price"
         },
         "type": "linear"
        }
       }
      },
      "image/png": "[encoded data removed]",
      "text/html": [
       "<div>                            <div id=\"399c3939-2ac8-48e2-bc90-8a6815a453e5\" class=\"plotly-graph-div\" style=\"height:525px; width:100%;\"></div>            <script type=\"text/javascript\">                require([\"plotly\"], function(Plotly) {                    window.PLOTLYENV=window.PLOTLYENV || {};                                    if (document.getElementById(\"399c3939-2ac8-48e2-bc90-8a6815a453e5\")) {                    Plotly.newPlot(                        \"399c3939-2ac8-48e2-bc90-8a6815a453e5\",                        [{\"hovertemplate\":\"FuelType=Gasoline<br>Model Year=%{x}<br>Average Price=%{y}<extra></extra>\",\"legendgroup\":\"Gasoline\",\"marker\":{\"color\":\"#636efa\",\"symbol\":\"circle\"},\"mode\":\"markers\",\"name\":\"Gasoline\",\"orientation\":\"v\",\"showlegend\":true,\"x\":[2001,2002,2003,2004,2005,2006,2007,2008,2009,2010,2011,2012,2013,2014,2015,2016,2017,2018,2019,2020,2021,2022],\"xaxis\":\"x\",\"y\":[5995.0,22900.0,10337.857142857143,8415.444444444445,9735.363636363636,9512.125,11138.75,17852.785714285714,13279.0,15505.433333333332,14236.973684210527,18409.241379310344,23674.17,23067.840336134454,31070.858447488583,31122.06309148265,32968.11538461538,35433.36102868447,39740.41427218188,42213.619047619046,48767.58957654723,51618.775],\"yaxis\":\"y\",\"type\":\"scatter\"},{\"hovertemplate\":\"FuelType=Flex<br>Model Year=%{x}<br>Average Price=%{y}<extra></extra>\",\"legendgroup\":\"Flex\",\"marker\":{\"color\":\"#EF553B\",\"symbol\":\"circle\"},\"mode\":\"markers\",\"name\":\"Flex\",\"orientation\":\"v\",\"showlegend\":true,\"x\":[2007,2009,2010,2011,2012,2013,2014,2015,2016,2017,2018,2019,2020],\"xaxis\":\"x\",\"y\":[16500.0,14931.0,7990.0,14738.333333333334,18596.88888888889,17268.0,40251.875,21444.4,24524.125,30647.0,30814.0,33955.35,58279.0],\"yaxis\":\"y\",\"type\":\"scatter\"},{\"hovertemplate\":\"FuelType=Hybrid<br>Model Year=%{x}<br>Average Price=%{y}<extra></extra>\",\"legendgroup\":\"Hybrid\",\"marker\":{\"color\":\"#00cc96\",\"symbol\":\"circle\"},\"mode\":\"markers\",\"name\":\"Hybrid\",\"orientation\":\"v\",\"showlegend\":true,\"x\":[2008,2010,2012,2013,2014,2015,2016,2017,2018,2019,2020,2021,2022],\"xaxis\":\"x\",\"y\":[25000.0,11985.0,9995.0,18326.5,22281.333333333332,28028.285714285714,27627.25,36414.166666666664,38143.2,50524.4,52126.92307692308,57814.23529411765,58425.0],\"yaxis\":\"y\",\"type\":\"scatter\"},{\"hovertemplate\":\"FuelType=Electric<br>Model Year=%{x}<br>Average Price=%{y}<extra></extra>\",\"legendgroup\":\"Electric\",\"marker\":{\"color\":\"#ab63fa\",\"symbol\":\"circle\"},\"mode\":\"markers\",\"name\":\"Electric\",\"orientation\":\"v\",\"showlegend\":true,\"x\":[2016,2017,2018,2019,2020,2021,2022],\"xaxis\":\"x\",\"y\":[72464.0,63980.333333333336,63139.88888888889,48718.76,74726.14285714286,73454.66666666667,72455.66666666667],\"yaxis\":\"y\",\"type\":\"scatter\"}],                        {\"template\":{\"data\":{\"bar\":[{\"error_x\":{\"color\":\"#2a3f5f\"},\"error_y\":{\"color\":\"#2a3f5f\"},\"marker\":{\"line\":{\"color\":\"#E5ECF6\",\"width\":0.5},\"pattern\":{\"fillmode\":\"overlay\",\"size\":10,\"solidity\":0.2}},\"type\":\"bar\"}],\"barpolar\":[{\"marker\":{\"line\":{\"color\":\"#E5ECF6\",\"width\":0.5},\"pattern\":{\"fillmode\":\"overlay\",\"size\":10,\"solidity\":0.2}},\"type\":\"barpolar\"}],\"carpet\":[{\"aaxis\":{\"endlinecolor\":\"#2a3f5f\",\"gridcolor\":\"white\",\"linecolor\":\"white\",\"minorgridcolor\":\"white\",\"startlinecolor\":\"#2a3f5f\"},\"baxis\":{\"endlinecolor\":\"#2a3f5f\",\"gridcolor\":\"white\",\"linecolor\":\"white\",\"minorgridcolor\":\"white\",\"startlinecolor\":\"#2a3f5f\"},\"type\":\"carpet\"}],\"choropleth\":[{\"colorbar\":{\"outlinewidth\":0,\"ticks\":\"\"},\"type\":\"choropleth\"}],\"contour\":[{\"colorbar\":{\"outlinewidth\":0,\"ticks\":\"\"},\"colorscale\":[[0.0,\"#0d0887\"],[0.1111111111111111,\"#46039f\"],[0.2222222222222222,\"#7201a8\"],[0.3333333333333333,\"#9c179e\"],[0.4444444444444444,\"#bd3786\"],[0.5555555555555556,\"#d8576b\"],[0.6666666666666666,\"#ed7953\"],[0.7777777777777778,\"#fb9f3a\"],[0.8888888888888888,\"#fdca26\"],[1.0,\"#f0f921\"]],\"type\":\"contour\"}],\"contourcarpet\":[{\"colorbar\":{\"outlinewidth\":0,\"ticks\":\"\"},\"type\":\"contourcarpet\"}],\"heatmap\":[{\"colorbar\":{\"outlinewidth\":0,\"ticks\":\"\"},\"colorscale\":[[0.0,\"#0d0887\"],[0.1111111111111111,\"#46039f\"],[0.2222222222222222,\"#7201a8\"],[0.3333333333333333,\"#9c179e\"],[0.4444444444444444,\"#bd3786\"],[0.5555555555555556,\"#d8576b\"],[0.6666666666666666,\"#ed7953\"],[0.7777777777777778,\"#fb9f3a\"],[0.8888888888888888,\"#fdca26\"],[1.0,\"#f0f921\"]],\"type\":\"heatmap\"}],\"heatmapgl\":[{\"colorbar\":{\"outlinewidth\":0,\"ticks\":\"\"},\"colorscale\":[[0.0,\"#0d0887\"],[0.1111111111111111,\"#46039f\"],[0.2222222222222222,\"#7201a8\"],[0.3333333333333333,\"#9c179e\"],[0.4444444444444444,\"#bd3786\"],[0.5555555555555556,\"#d8576b\"],[0.6666666666666666,\"#ed7953\"],[0.7777777777777778,\"#fb9f3a\"],[0.8888888888888888,\"#fdca26\"],[1.0,\"#f0f921\"]],\"type\":\"heatmapgl\"}],\"histogram\":[{\"marker\":{\"pattern\":{\"fillmode\":\"overlay\",\"size\":10,\"solidity\":0.2}},\"type\":\"histogram\"}],\"histogram2d\":[{\"colorbar\":{\"outlinewidth\":0,\"ticks\":\"\"},\"colorscale\":[[0.0,\"#0d0887\"],[0.1111111111111111,\"#46039f\"],[0.2222222222222222,\"#7201a8\"],[0.3333333333333333,\"#9c179e\"],[0.4444444444444444,\"#bd3786\"],[0.5555555555555556,\"#d8576b\"],[0.6666666666666666,\"#ed7953\"],[0.7777777777777778,\"#fb9f3a\"],[0.8888888888888888,\"#fdca26\"],[1.0,\"#f0f921\"]],\"type\":\"histogram2d\"}],\"histogram2dcontour\":[{\"colorbar\":{\"outlinewidth\":0,\"ticks\":\"\"},\"colorscale\":[[0.0,\"#0d0887\"],[0.1111111111111111,\"#46039f\"],[0.2222222222222222,\"#7201a8\"],[0.3333333333333333,\"#9c179e\"],[0.4444444444444444,\"#bd3786\"],[0.5555555555555556,\"#d8576b\"],[0.6666666666666666,\"#ed7953\"],[0.7777777777777778,\"#fb9f3a\"],[0.8888888888888888,\"#fdca26\"],[1.0,\"#f0f921\"]],\"type\":\"histogram2dcontour\"}],\"mesh3d\":[{\"colorbar\":{\"outlinewidth\":0,\"ticks\":\"\"},\"type\":\"mesh3d\"}],\"parcoords\":[{\"line\":{\"colorbar\":{\"outlinewidth\":0,\"ticks\":\"\"}},\"type\":\"parcoords\"}],\"pie\":[{\"automargin\":true,\"type\":\"pie\"}],\"scatter\":[{\"marker\":{\"colorbar\":{\"outlinewidth\":0,\"ticks\":\"\"}},\"type\":\"scatter\"}],\"scatter3d\":[{\"line\":{\"colorbar\":{\"outlinewidth\":0,\"ticks\":\"\"}},\"marker\":{\"colorbar\":{\"outlinewidth\":0,\"ticks\":\"\"}},\"type\":\"scatter3d\"}],\"scattercarpet\":[{\"marker\":{\"colorbar\":{\"outlinewidth\":0,\"ticks\":\"\"}},\"type\":\"scattercarpet\"}],\"scattergeo\":[{\"marker\":{\"colorbar\":{\"outlinewidth\":0,\"ticks\":\"\"}},\"type\":\"scattergeo\"}],\"scattergl\":[{\"marker\":{\"colorbar\":{\"outlinewidth\":0,\"ticks\":\"\"}},\"type\":\"scattergl\"}],\"scattermapbox\":[{\"marker\":{\"colorbar\":{\"outlinewidth\":0,\"ticks\":\"\"}},\"type\":\"scattermapbox\"}],\"scatterpolar\":[{\"marker\":{\"colorbar\":{\"outlinewidth\":0,\"ticks\":\"\"}},\"type\":\"scatterpolar\"}],\"scatterpolargl\":[{\"marker\":{\"colorbar\":{\"outlinewidth\":0,\"ticks\":\"\"}},\"type\":\"scatterpolargl\"}],\"scatterternary\":[{\"marker\":{\"colorbar\":{\"outlinewidth\":0,\"ticks\":\"\"}},\"type\":\"scatterternary\"}],\"surface\":[{\"colorbar\":{\"outlinewidth\":0,\"ticks\":\"\"},\"colorscale\":[[0.0,\"#0d0887\"],[0.1111111111111111,\"#46039f\"],[0.2222222222222222,\"#7201a8\"],[0.3333333333333333,\"#9c179e\"],[0.4444444444444444,\"#bd3786\"],[0.5555555555555556,\"#d8576b\"],[0.6666666666666666,\"#ed7953\"],[0.7777777777777778,\"#fb9f3a\"],[0.8888888888888888,\"#fdca26\"],[1.0,\"#f0f921\"]],\"type\":\"surface\"}],\"table\":[{\"cells\":{\"fill\":{\"color\":\"#EBF0F8\"},\"line\":{\"color\":\"white\"}},\"header\":{\"fill\":{\"color\":\"#C8D4E3\"},\"line\":{\"color\":\"white\"}},\"type\":\"table\"}]},\"layout\":{\"annotationdefaults\":{\"arrowcolor\":\"#2a3f5f\",\"arrowhead\":0,\"arrowwidth\":1},\"autotypenumbers\":\"strict\",\"coloraxis\":{\"colorbar\":{\"outlinewidth\":0,\"ticks\":\"\"}},\"colorscale\":{\"diverging\":[[0,\"#8e0152\"],[0.1,\"#c51b7d\"],[0.2,\"#de77ae\"],[0.3,\"#f1b6da\"],[0.4,\"#fde0ef\"],[0.5,\"#f7f7f7\"],[0.6,\"#e6f5d0\"],[0.7,\"#b8e186\"],[0.8,\"#7fbc41\"],[0.9,\"#4d9221\"],[1,\"#276419\"]],\"sequential\":[[0.0,\"#0d0887\"],[0.1111111111111111,\"#46039f\"],[0.2222222222222222,\"#7201a8\"],[0.3333333333333333,\"#9c179e\"],[0.4444444444444444,\"#bd3786\"],[0.5555555555555556,\"#d8576b\"],[0.6666666666666666,\"#ed7953\"],[0.7777777777777778,\"#fb9f3a\"],[0.8888888888888888,\"#fdca26\"],[1.0,\"#f0f921\"]],\"sequentialminus\":[[0.0,\"#0d0887\"],[0.1111111111111111,\"#46039f\"],[0.2222222222222222,\"#7201a8\"],[0.3333333333333333,\"#9c179e\"],[0.4444444444444444,\"#bd3786\"],[0.5555555555555556,\"#d8576b\"],[0.6666666666666666,\"#ed7953\"],[0.7777777777777778,\"#fb9f3a\"],[0.8888888888888888,\"#fdca26\"],[1.0,\"#f0f921\"]]},\"colorway\":[\"#636efa\",\"#EF553B\",\"#00cc96\",\"#ab63fa\",\"#FFA15A\",\"#19d3f3\",\"#FF6692\",\"#B6E880\",\"#FF97FF\",\"#FECB52\"],\"font\":{\"color\":\"#2a3f5f\"},\"geo\":{\"bgcolor\":\"white\",\"lakecolor\":\"white\",\"landcolor\":\"#E5ECF6\",\"showlakes\":true,\"showland\":true,\"subunitcolor\":\"white\"},\"hoverlabel\":{\"align\":\"left\"},\"hovermode\":\"closest\",\"mapbox\":{\"style\":\"light\"},\"paper_bgcolor\":\"white\",\"plot_bgcolor\":\"#E5ECF6\",\"polar\":{\"angularaxis\":{\"gridcolor\":\"white\",\"linecolor\":\"white\",\"ticks\":\"\"},\"bgcolor\":\"#E5ECF6\",\"radialaxis\":{\"gridcolor\":\"white\",\"linecolor\":\"white\",\"ticks\":\"\"}},\"scene\":{\"xaxis\":{\"backgroundcolor\":\"#E5ECF6\",\"gridcolor\":\"white\",\"gridwidth\":2,\"linecolor\":\"white\",\"showbackground\":true,\"ticks\":\"\",\"zerolinecolor\":\"white\"},\"yaxis\":{\"backgroundcolor\":\"#E5ECF6\",\"gridcolor\":\"white\",\"gridwidth\":2,\"linecolor\":\"white\",\"showbackground\":true,\"ticks\":\"\",\"zerolinecolor\":\"white\"},\"zaxis\":{\"backgroundcolor\":\"#E5ECF6\",\"gridcolor\":\"white\",\"gridwidth\":2,\"linecolor\":\"white\",\"showbackground\":true,\"ticks\":\"\",\"zerolinecolor\":\"white\"}},\"shapedefaults\":{\"line\":{\"color\":\"#2a3f5f\"}},\"ternary\":{\"aaxis\":{\"gridcolor\":\"white\",\"linecolor\":\"white\",\"ticks\":\"\"},\"baxis\":{\"gridcolor\":\"white\",\"linecolor\":\"white\",\"ticks\":\"\"},\"bgcolor\":\"#E5ECF6\",\"caxis\":{\"gridcolor\":\"white\",\"linecolor\":\"white\",\"ticks\":\"\"}},\"title\":{\"x\":0.05},\"xaxis\":{\"automargin\":true,\"gridcolor\":\"white\",\"linecolor\":\"white\",\"ticks\":\"\",\"title\":{\"standoff\":15},\"zerolinecolor\":\"white\",\"zerolinewidth\":2},\"yaxis\":{\"automargin\":true,\"gridcolor\":\"white\",\"linecolor\":\"white\",\"ticks\":\"\",\"title\":{\"standoff\":15},\"zerolinecolor\":\"white\",\"zerolinewidth\":2}}},\"xaxis\":{\"anchor\":\"y\",\"domain\":[0.0,1.0],\"title\":{\"text\":\"Model Year\"}},\"yaxis\":{\"anchor\":\"x\",\"domain\":[0.0,1.0],\"title\":{\"text\":\"Average Price\"}},\"legend\":{\"title\":{\"text\":\"FuelType\"},\"tracegroupgap\":0},\"title\":{\"text\":\"Average Car Price by Model Year and Fuel Type\"}},                        {\"responsive\": true}                    ).then(function(){\n",
       "                            \n",
       "var gd = document.getElementById('399c3939-2ac8-48e2-bc90-8a6815a453e5');\n",
       "var x = new MutationObserver(function (mutations, observer) {{\n",
       "        var display = window.getComputedStyle(gd).display;\n",
       "        if (!display || display === 'none') {{\n",
       "            console.log([gd, 'removed!']);\n",
       "            Plotly.purge(gd);\n",
       "            observer.disconnect();\n",
       "        }}\n",
       "}});\n",
       "\n",
       "// Listen for the removal of the full notebook cells\n",
       "var notebookContainer = gd.closest('#notebook-container');\n",
       "if (notebookContainer) {{\n",
       "    x.observe(notebookContainer, {childList: true});\n",
       "}}\n",
       "\n",
       "// Listen for the clearing of the current output cell\n",
       "var outputEl = gd.closest('.output');\n",
       "if (outputEl) {{\n",
       "    x.observe(outputEl, {childList: true});\n",
       "}}\n",
       "\n",
       "                        })                };                });            </script>        </div>"
      ]
     },
     "metadata": {},
     "output_type": "display_data"
    },
    {
     "data": {
      "text/plain": [
       "<matplotlib.legend.Legend at 0x223c109f400>"
      ]
     },
     "execution_count": 38,
     "metadata": {},
     "output_type": "execute_result"
    },
    {
     "data": {
      "image/png": "[encoded data removed]",
      "text/plain": [
       "<Figure size 1800x1200 with 1 Axes>"
      ]
     },
     "metadata": {
      "needs_background": "light"
     },
     "output_type": "display_data"
    }
   ],
   "source": [
    "#Start producing graphs based on interesting metrics, first one model year/fueltype and price as an example\n",
    "\n",
    "#Make a new df with aggregated price, grouped by year and fueltype\n",
    "year_price = cars_data.groupby(['Year', 'FuelType']).mean('Price').reset_index()\n",
    "\n",
    "\n",
    "#Make a chart with plotly express (won't show up in github)\n",
    "fig = px.scatter(year_price, x = 'Year', y = 'Price', color = 'FuelType', title = 'Average Car Price by Model Year and Fuel Type',\n",
    "                 labels = {'Year' : 'Model Year', 'Price' : 'Average Price'})\n",
    "fig.show()\n",
    "\n",
    "#Next with seaborn, which will show up on github page natively\n",
    "plt.rcParams['figure.dpi'] = 300\n",
    "plt.rcParams['savefig.dpi'] = 300\n",
    "plt.rcParams['font.family'] = 'Source Sans Pro'\n",
    "fig2, ax = plt.subplots()\n",
    "ax = sns.set_palette('deep')\n",
    "ax = sns.scatterplot(data = year_price, x = 'Year', y = 'Price', hue = 'FuelType')\n",
    "ax.set_title('Average Price by Model Year/Fuel Type')\n",
    "ax.set_xlabel('Model Year')\n",
    "ax.set_ylabel('Average Price')\n",
    "ax.legend(loc='upper right', bbox_to_anchor=(1.25, 1))"
   ]
  },
  {
   "cell_type": "code",
   "execution_count": 43,
   "id": "49b41f5e-e69c-4547-9a32-b6982b2c57e3",
   "metadata": {},
   "outputs": [
    {
     "name": "stdout",
     "output_type": "stream",
     "text": [
      "   Drivetrain  Year  car_count     avg_price\n",
      "9         4WD  2013         11  23800.454545\n",
      "10        4WD  2014         20  25738.250000\n",
      "11        4WD  2015         55  31436.763636\n",
      "12        4WD  2016         51  36134.000000\n",
      "13        4WD  2017         96  36968.562500\n",
      "14        4WD  2018        182  41448.692308\n",
      "15        4WD  2019        453  44682.891832\n",
      "16        4WD  2020        358  48882.829609\n",
      "17        4WD  2021        290  61662.762069\n",
      "29        AWD  2013         39  26619.794872\n",
      "30        AWD  2014         50  30017.900000\n",
      "31        AWD  2015         70  38764.357143\n",
      "32        AWD  2016        167  32162.083832\n",
      "33        AWD  2017        259  35253.996139\n",
      "34        AWD  2018        514  37350.865759\n",
      "35        AWD  2019       1872  41803.134615\n",
      "36        AWD  2020        867  48960.389850\n",
      "37        AWD  2021        558  51439.164875\n",
      "38        AWD  2022         43  58461.348837\n",
      "48        FWD  2013         40  15870.275000\n",
      "49        FWD  2014         38  16470.815789\n",
      "50        FWD  2015         64  19923.765625\n",
      "51        FWD  2016         72  20960.013889\n",
      "52        FWD  2017        148  23388.743243\n",
      "53        FWD  2018        248  28034.875000\n",
      "54        FWD  2019        716  31113.064246\n",
      "55        FWD  2020        623  30883.512039\n",
      "56        FWD  2021        302  35161.980132\n",
      "57        FWD  2022         38  39041.947368\n",
      "70        RWD  2013         15  34739.066667\n",
      "71        RWD  2014         33  26704.242424\n",
      "72        RWD  2015         47  31861.957447\n",
      "73        RWD  2016         42  39684.880952\n",
      "74        RWD  2017         67  40737.626866\n",
      "75        RWD  2018        123  39621.455285\n",
      "76        RWD  2019        216  41312.097222\n",
      "77        RWD  2020        162  46662.290123\n",
      "78        RWD  2021        180  52095.227778\n"
     ]
    },
    {
     "data": {
      "application/vnd.plotly.v1+json": {
       "config": {
        "plotlyServerURL": "https://plot.ly"
       },
       "data": [
        {
         "hovertemplate": "Drivetrain=4WD<br>Model Year=%{x}<br>Average Price=%{y}<extra></extra>",
         "legendgroup": "4WD",
         "marker": {
          "color": "#636efa",
          "symbol": "circle"
         },
         "mode": "markers",
         "name": "4WD",
         "orientation": "v",
         "showlegend": true,
         "type": "scatter",
         "x": [
          2013,
          2014,
          2015,
          2016,
          2017,
          2018,
          2019,
          2020,
          2021
         ],
         "xaxis": "x",
         "y": [
          23800.454545454544,
          25738.25,
          31436.763636363637,
          36134,
          36968.5625,
          41448.692307692305,
          44682.89183222958,
          48882.82960893855,
          61662.762068965516
         ],
         "yaxis": "y"
        },
        {
         "hovertemplate": "<b>OLS trendline</b><br>avg_price = 4211.5 * Year + -8.45562e+06<br>R<sup>2</sup>=0.945119<br><br>Drivetrain=4WD<br>Model Year=%{x}<br>Average Price=%{y} <b>(trend)</b><extra></extra>",
         "legendgroup": "4WD",
         "marker": {
          "color": "#636efa",
          "symbol": "circle"
         },
         "mode": "lines",
         "name": "4WD",
         "showlegend": false,
         "type": "scatter",
         "x": [
          2013,
          2014,
          2015,
          2016,
          2017,
          2018,
          2019,
          2020,
          2021
         ],
         "xaxis": "x",
         "y": [
          22126.80621416308,
          26338.304841168225,
          30549.803468171507,
          34761.30209517665,
          38972.8007221818,
          43184.29934918694,
          47395.79797619209,
          51607.29660319537,
          55818.795230200514
         ],
         "yaxis": "y"
        },
        {
         "hovertemplate": "Drivetrain=AWD<br>Model Year=%{x}<br>Average Price=%{y}<extra></extra>",
         "legendgroup": "AWD",
         "marker": {
          "color": "#EF553B",
          "symbol": "circle"
         },
         "mode": "markers",
         "name": "AWD",
         "orientation": "v",
         "showlegend": true,
         "type": "scatter",
         "x": [
          2013,
          2014,
          2015,
          2016,
          2017,
          2018,
          2019,
          2020,
          2021,
          2022
         ],
         "xaxis": "x",
         "y": [
          26619.79487179487,
          30017.9,
          38764.357142857145,
          32162.08383233533,
          35253.99613899614,
          37350.865758754866,
          41803.13461538462,
          48960.38985005767,
          51439.16487455197,
          58461.348837209305
         ],
         "yaxis": "y"
        },
        {
         "hovertemplate": "<b>OLS trendline</b><br>avg_price = 3142.56 * Year + -6.30004e+06<br>R<sup>2</sup>=0.879550<br><br>Drivetrain=AWD<br>Model Year=%{x}<br>Average Price=%{y} <b>(trend)</b><extra></extra>",
         "legendgroup": "AWD",
         "marker": {
          "color": "#EF553B",
          "symbol": "circle"
         },
         "mode": "lines",
         "name": "AWD",
         "showlegend": false,
         "type": "scatter",
         "x": [
          2013,
          2014,
          2015,
          2016,
          2017,
          2018,
          2019,
          2020,
          2021,
          2022
         ],
         "xaxis": "x",
         "y": [
          25941.766538140364,
          29084.33032793086,
          32226.894117721356,
          35369.45790751185,
          38512.02169730235,
          41654.585487092845,
          44797.14927688334,
          47939.71306667384,
          51082.276856464334,
          54224.8406462539
         ],
         "yaxis": "y"
        },
        {
         "hovertemplate": "Drivetrain=FWD<br>Model Year=%{x}<br>Average Price=%{y}<extra></extra>",
         "legendgroup": "FWD",
         "marker": {
          "color": "#00cc96",
          "symbol": "circle"
         },
         "mode": "markers",
         "name": "FWD",
         "orientation": "v",
         "showlegend": true,
         "type": "scatter",
         "x": [
          2013,
          2014,
          2015,
          2016,
          2017,
          2018,
          2019,
          2020,
          2021,
          2022
         ],
         "xaxis": "x",
         "y": [
          15870.275,
          16470.815789473683,
          19923.765625,
          20960.01388888889,
          23388.743243243243,
          28034.875,
          31113.064245810056,
          30883.512038523273,
          35161.98013245033,
          39041.94736842105
         ],
         "yaxis": "y"
        },
        {
         "hovertemplate": "<b>OLS trendline</b><br>avg_price = 2601.74 * Year + -5.22293e+06<br>R<sup>2</sup>=0.978611<br><br>Drivetrain=FWD<br>Model Year=%{x}<br>Average Price=%{y} <b>(trend)</b><extra></extra>",
         "legendgroup": "FWD",
         "marker": {
          "color": "#00cc96",
          "symbol": "circle"
         },
         "mode": "lines",
         "name": "FWD",
         "showlegend": false,
         "type": "scatter",
         "x": [
          2013,
          2014,
          2015,
          2016,
          2017,
          2018,
          2019,
          2020,
          2021,
          2022
         ],
         "xaxis": "x",
         "y": [
          14377.066052864306,
          16978.80675960239,
          19580.547466339543,
          22182.288173076697,
          24784.02887981478,
          27385.769586551934,
          29987.510293289088,
          32589.251000027172,
          35190.991706764325,
          37792.73241350241
         ],
         "yaxis": "y"
        },
        {
         "hovertemplate": "Drivetrain=RWD<br>Model Year=%{x}<br>Average Price=%{y}<extra></extra>",
         "legendgroup": "RWD",
         "marker": {
          "color": "#ab63fa",
          "symbol": "circle"
         },
         "mode": "markers",
         "name": "RWD",
         "orientation": "v",
         "showlegend": true,
         "type": "scatter",
         "x": [
          2013,
          2014,
          2015,
          2016,
          2017,
          2018,
          2019,
          2020,
          2021
         ],
         "xaxis": "x",
         "y": [
          34739.066666666666,
          26704.242424242424,
          31861.957446808512,
          39684.880952380954,
          40737.62686567164,
          39621.455284552845,
          41312.09722222222,
          46662.29012345679,
          52095.22777777778
         ],
         "yaxis": "y"
        },
        {
         "hovertemplate": "<b>OLS trendline</b><br>avg_price = 2468.93 * Year + -4.94056e+06<br>R<sup>2</sup>=0.796709<br><br>Drivetrain=RWD<br>Model Year=%{x}<br>Average Price=%{y} <b>(trend)</b><extra></extra>",
         "legendgroup": "RWD",
         "marker": {
          "color": "#ab63fa",
          "symbol": "circle"
         },
         "mode": "lines",
         "name": "RWD",
         "showlegend": false,
         "type": "scatter",
         "x": [
          2013,
          2014,
          2015,
          2016,
          2017,
          2018,
          2019,
          2020,
          2021
         ],
         "xaxis": "x",
         "y": [
          29393.051100969315,
          31861.978458054364,
          34330.90581513941,
          36799.83317222353,
          39268.76052930858,
          41737.68788639363,
          44206.61524347775,
          46675.542600562796,
          49144.469957647845
         ],
         "yaxis": "y"
        }
       ],
       "layout": {
        "autosize": true,
        "legend": {
         "title": {
          "text": "Drivetrain"
         },
         "tracegroupgap": 0
        },
        "template": {
         "data": {
          "bar": [
           {
            "error_x": {
             "color": "#2a3f5f"
            },
            "error_y": {
             "color": "#2a3f5f"
            },
            "marker": {
             "line": {
              "color": "#E5ECF6",
              "width": 0.5
             },
             "pattern": {
              "fillmode": "overlay",
              "size": 10,
              "solidity": 0.2
             }
            },
            "type": "bar"
           }
          ],
          "barpolar": [
           {
            "marker": {
             "line": {
              "color": "#E5ECF6",
              "width": 0.5
             },
             "pattern": {
              "fillmode": "overlay",
              "size": 10,
              "solidity": 0.2
             }
            },
            "type": "barpolar"
           }
          ],
          "carpet": [
           {
            "aaxis": {
             "endlinecolor": "#2a3f5f",
             "gridcolor": "white",
             "linecolor": "white",
             "minorgridcolor": "white",
             "startlinecolor": "#2a3f5f"
            },
            "baxis": {
             "endlinecolor": "#2a3f5f",
             "gridcolor": "white",
             "linecolor": "white",
             "minorgridcolor": "white",
             "startlinecolor": "#2a3f5f"
            },
            "type": "carpet"
           }
          ],
          "choropleth": [
           {
            "colorbar": {
             "outlinewidth": 0,
             "ticks": ""
            },
            "type": "choropleth"
           }
          ],
          "contour": [
           {
            "colorbar": {
             "outlinewidth": 0,
             "ticks": ""
            },
            "colorscale": [
             [
              0,
              "#0d0887"
             ],
             [
              0.1111111111111111,
              "#46039f"
             ],
             [
              0.2222222222222222,
              "#7201a8"
             ],
             [
              0.3333333333333333,
              "#9c179e"
             ],
             [
              0.4444444444444444,
              "#bd3786"
             ],
             [
              0.5555555555555556,
              "#d8576b"
             ],
             [
              0.6666666666666666,
              "#ed7953"
             ],
             [
              0.7777777777777778,
              "#fb9f3a"
             ],
             [
              0.8888888888888888,
              "#fdca26"
             ],
             [
              1,
              "#f0f921"
             ]
            ],
            "type": "contour"
           }
          ],
          "contourcarpet": [
           {
            "colorbar": {
             "outlinewidth": 0,
             "ticks": ""
            },
            "type": "contourcarpet"
           }
          ],
          "heatmap": [
           {
            "colorbar": {
             "outlinewidth": 0,
             "ticks": ""
            },
            "colorscale": [
             [
              0,
              "#0d0887"
             ],
             [
              0.1111111111111111,
              "#46039f"
             ],
             [
              0.2222222222222222,
              "#7201a8"
             ],
             [
              0.3333333333333333,
              "#9c179e"
             ],
             [
              0.4444444444444444,
              "#bd3786"
             ],
             [
              0.5555555555555556,
              "#d8576b"
             ],
             [
              0.6666666666666666,
              "#ed7953"
             ],
             [
              0.7777777777777778,
              "#fb9f3a"
             ],
             [
              0.8888888888888888,
              "#fdca26"
             ],
             [
              1,
              "#f0f921"
             ]
            ],
            "type": "heatmap"
           }
          ],
          "heatmapgl": [
           {
            "colorbar": {
             "outlinewidth": 0,
             "ticks": ""
            },
            "colorscale": [
             [
              0,
              "#0d0887"
             ],
             [
              0.1111111111111111,
              "#46039f"
             ],
             [
              0.2222222222222222,
              "#7201a8"
             ],
             [
              0.3333333333333333,
              "#9c179e"
             ],
             [
              0.4444444444444444,
              "#bd3786"
             ],
             [
              0.5555555555555556,
              "#d8576b"
             ],
             [
              0.6666666666666666,
              "#ed7953"
             ],
             [
              0.7777777777777778,
              "#fb9f3a"
             ],
             [
              0.8888888888888888,
              "#fdca26"
             ],
             [
              1,
              "#f0f921"
             ]
            ],
            "type": "heatmapgl"
           }
          ],
          "histogram": [
           {
            "marker": {
             "pattern": {
              "fillmode": "overlay",
              "size": 10,
              "solidity": 0.2
             }
            },
            "type": "histogram"
           }
          ],
          "histogram2d": [
           {
            "colorbar": {
             "outlinewidth": 0,
             "ticks": ""
            },
            "colorscale": [
             [
              0,
              "#0d0887"
             ],
             [
              0.1111111111111111,
              "#46039f"
             ],
             [
              0.2222222222222222,
              "#7201a8"
             ],
             [
              0.3333333333333333,
              "#9c179e"
             ],
             [
              0.4444444444444444,
              "#bd3786"
             ],
             [
              0.5555555555555556,
              "#d8576b"
             ],
             [
              0.6666666666666666,
              "#ed7953"
             ],
             [
              0.7777777777777778,
              "#fb9f3a"
             ],
             [
              0.8888888888888888,
              "#fdca26"
             ],
             [
              1,
              "#f0f921"
             ]
            ],
            "type": "histogram2d"
           }
          ],
          "histogram2dcontour": [
           {
            "colorbar": {
             "outlinewidth": 0,
             "ticks": ""
            },
            "colorscale": [
             [
              0,
              "#0d0887"
             ],
             [
              0.1111111111111111,
              "#46039f"
             ],
             [
              0.2222222222222222,
              "#7201a8"
             ],
             [
              0.3333333333333333,
              "#9c179e"
             ],
             [
              0.4444444444444444,
              "#bd3786"
             ],
             [
              0.5555555555555556,
              "#d8576b"
             ],
             [
              0.6666666666666666,
              "#ed7953"
             ],
             [
              0.7777777777777778,
              "#fb9f3a"
             ],
             [
              0.8888888888888888,
              "#fdca26"
             ],
             [
              1,
              "#f0f921"
             ]
            ],
            "type": "histogram2dcontour"
           }
          ],
          "mesh3d": [
           {
            "colorbar": {
             "outlinewidth": 0,
             "ticks": ""
            },
            "type": "mesh3d"
           }
          ],
          "parcoords": [
           {
            "line": {
             "colorbar": {
              "outlinewidth": 0,
              "ticks": ""
             }
            },
            "type": "parcoords"
           }
          ],
          "pie": [
           {
            "automargin": true,
            "type": "pie"
           }
          ],
          "scatter": [
           {
            "marker": {
             "colorbar": {
              "outlinewidth": 0,
              "ticks": ""
             }
            },
            "type": "scatter"
           }
          ],
          "scatter3d": [
           {
            "line": {
             "colorbar": {
              "outlinewidth": 0,
              "ticks": ""
             }
            },
            "marker": {
             "colorbar": {
              "outlinewidth": 0,
              "ticks": ""
             }
            },
            "type": "scatter3d"
           }
          ],
          "scattercarpet": [
           {
            "marker": {
             "colorbar": {
              "outlinewidth": 0,
              "ticks": ""
             }
            },
            "type": "scattercarpet"
           }
          ],
          "scattergeo": [
           {
            "marker": {
             "colorbar": {
              "outlinewidth": 0,
              "ticks": ""
             }
            },
            "type": "scattergeo"
           }
          ],
          "scattergl": [
           {
            "marker": {
             "colorbar": {
              "outlinewidth": 0,
              "ticks": ""
             }
            },
            "type": "scattergl"
           }
          ],
          "scattermapbox": [
           {
            "marker": {
             "colorbar": {
              "outlinewidth": 0,
              "ticks": ""
             }
            },
            "type": "scattermapbox"
           }
          ],
          "scatterpolar": [
           {
            "marker": {
             "colorbar": {
              "outlinewidth": 0,
              "ticks": ""
             }
            },
            "type": "scatterpolar"
           }
          ],
          "scatterpolargl": [
           {
            "marker": {
             "colorbar": {
              "outlinewidth": 0,
              "ticks": ""
             }
            },
            "type": "scatterpolargl"
           }
          ],
          "scatterternary": [
           {
            "marker": {
             "colorbar": {
              "outlinewidth": 0,
              "ticks": ""
             }
            },
            "type": "scatterternary"
           }
          ],
          "surface": [
           {
            "colorbar": {
             "outlinewidth": 0,
             "ticks": ""
            },
            "colorscale": [
             [
              0,
              "#0d0887"
             ],
             [
              0.1111111111111111,
              "#46039f"
             ],
             [
              0.2222222222222222,
              "#7201a8"
             ],
             [
              0.3333333333333333,
              "#9c179e"
             ],
             [
              0.4444444444444444,
              "#bd3786"
             ],
             [
              0.5555555555555556,
              "#d8576b"
             ],
             [
              0.6666666666666666,
              "#ed7953"
             ],
             [
              0.7777777777777778,
              "#fb9f3a"
             ],
             [
              0.8888888888888888,
              "#fdca26"
             ],
             [
              1,
              "#f0f921"
             ]
            ],
            "type": "surface"
           }
          ],
          "table": [
           {
            "cells": {
             "fill": {
              "color": "#EBF0F8"
             },
             "line": {
              "color": "white"
             }
            },
            "header": {
             "fill": {
              "color": "#C8D4E3"
             },
             "line": {
              "color": "white"
             }
            },
            "type": "table"
           }
          ]
         },
         "layout": {
          "annotationdefaults": {
           "arrowcolor": "#2a3f5f",
           "arrowhead": 0,
           "arrowwidth": 1
          },
          "autotypenumbers": "strict",
          "coloraxis": {
           "colorbar": {
            "outlinewidth": 0,
            "ticks": ""
           }
          },
          "colorscale": {
           "diverging": [
            [
             0,
             "#8e0152"
            ],
            [
             0.1,
             "#c51b7d"
            ],
            [
             0.2,
             "#de77ae"
            ],
            [
             0.3,
             "#f1b6da"
            ],
            [
             0.4,
             "#fde0ef"
            ],
            [
             0.5,
             "#f7f7f7"
            ],
            [
             0.6,
             "#e6f5d0"
            ],
            [
             0.7,
             "#b8e186"
            ],
            [
             0.8,
             "#7fbc41"
            ],
            [
             0.9,
             "#4d9221"
            ],
            [
             1,
             "#276419"
            ]
           ],
           "sequential": [
            [
             0,
             "#0d0887"
            ],
            [
             0.1111111111111111,
             "#46039f"
            ],
            [
             0.2222222222222222,
             "#7201a8"
            ],
            [
             0.3333333333333333,
             "#9c179e"
            ],
            [
             0.4444444444444444,
             "#bd3786"
            ],
            [
             0.5555555555555556,
             "#d8576b"
            ],
            [
             0.6666666666666666,
             "#ed7953"
            ],
            [
             0.7777777777777778,
             "#fb9f3a"
            ],
            [
             0.8888888888888888,
             "#fdca26"
            ],
            [
             1,
             "#f0f921"
            ]
           ],
           "sequentialminus": [
            [
             0,
             "#0d0887"
            ],
            [
             0.1111111111111111,
             "#46039f"
            ],
            [
             0.2222222222222222,
             "#7201a8"
            ],
            [
             0.3333333333333333,
             "#9c179e"
            ],
            [
             0.4444444444444444,
             "#bd3786"
            ],
            [
             0.5555555555555556,
             "#d8576b"
            ],
            [
             0.6666666666666666,
             "#ed7953"
            ],
            [
             0.7777777777777778,
             "#fb9f3a"
            ],
            [
             0.8888888888888888,
             "#fdca26"
            ],
            [
             1,
             "#f0f921"
            ]
           ]
          },
          "colorway": [
           "#636efa",
           "#EF553B",
           "#00cc96",
           "#ab63fa",
           "#FFA15A",
           "#19d3f3",
           "#FF6692",
           "#B6E880",
           "#FF97FF",
           "#FECB52"
          ],
          "font": {
           "color": "#2a3f5f"
          },
          "geo": {
           "bgcolor": "white",
           "lakecolor": "white",
           "landcolor": "#E5ECF6",
           "showlakes": true,
           "showland": true,
           "subunitcolor": "white"
          },
          "hoverlabel": {
           "align": "left"
          },
          "hovermode": "closest",
          "mapbox": {
           "style": "light"
          },
          "paper_bgcolor": "white",
          "plot_bgcolor": "#E5ECF6",
          "polar": {
           "angularaxis": {
            "gridcolor": "white",
            "linecolor": "white",
            "ticks": ""
           },
           "bgcolor": "#E5ECF6",
           "radialaxis": {
            "gridcolor": "white",
            "linecolor": "white",
            "ticks": ""
           }
          },
          "scene": {
           "xaxis": {
            "backgroundcolor": "#E5ECF6",
            "gridcolor": "white",
            "gridwidth": 2,
            "linecolor": "white",
            "showbackground": true,
            "ticks": "",
            "zerolinecolor": "white"
           },
           "yaxis": {
            "backgroundcolor": "#E5ECF6",
            "gridcolor": "white",
            "gridwidth": 2,
            "linecolor": "white",
            "showbackground": true,
            "ticks": "",
            "zerolinecolor": "white"
           },
           "zaxis": {
            "backgroundcolor": "#E5ECF6",
            "gridcolor": "white",
            "gridwidth": 2,
            "linecolor": "white",
            "showbackground": true,
            "ticks": "",
            "zerolinecolor": "white"
           }
          },
          "shapedefaults": {
           "line": {
            "color": "#2a3f5f"
           }
          },
          "ternary": {
           "aaxis": {
            "gridcolor": "white",
            "linecolor": "white",
            "ticks": ""
           },
           "baxis": {
            "gridcolor": "white",
            "linecolor": "white",
            "ticks": ""
           },
           "bgcolor": "#E5ECF6",
           "caxis": {
            "gridcolor": "white",
            "linecolor": "white",
            "ticks": ""
           }
          },
          "title": {
           "x": 0.05
          },
          "xaxis": {
           "automargin": true,
           "gridcolor": "white",
           "linecolor": "white",
           "ticks": "",
           "title": {
            "standoff": 15
           },
           "zerolinecolor": "white",
           "zerolinewidth": 2
          },
          "yaxis": {
           "automargin": true,
           "gridcolor": "white",
           "linecolor": "white",
           "ticks": "",
           "title": {
            "standoff": 15
           },
           "zerolinecolor": "white",
           "zerolinewidth": 2
          }
         }
        },
        "title": {
         "text": "Average Price by Model Year/Drivetrain Option"
        },
        "xaxis": {
         "anchor": "y",
         "autorange": true,
         "domain": [
          0,
          1
         ],
         "range": [
          2012.4398460057748,
          2022.5601539942252
         ],
         "title": {
          "text": "Model Year"
         },
         "type": "linear"
        },
        "yaxis": {
         "anchor": "x",
         "autorange": true,
         "domain": [
          0,
          1
         ],
         "range": [
          11687.832156214,
          65472.510089220115
         ],
         "title": {
          "text": "Average Price"
         },
         "type": "linear"
        }
       }
      },
      "image/png": "[encoded data removed]",
      "text/html": [
       "<div>                            <div id=\"7004dba1-2c21-447c-92a2-b0f5a91d7302\" class=\"plotly-graph-div\" style=\"height:525px; width:100%;\"></div>            <script type=\"text/javascript\">                require([\"plotly\"], function(Plotly) {                    window.PLOTLYENV=window.PLOTLYENV || {};                                    if (document.getElementById(\"7004dba1-2c21-447c-92a2-b0f5a91d7302\")) {                    Plotly.newPlot(                        \"7004dba1-2c21-447c-92a2-b0f5a91d7302\",                        [{\"hovertemplate\":\"Drivetrain=4WD<br>Model Year=%{x}<br>Average Price=%{y}<extra></extra>\",\"legendgroup\":\"4WD\",\"marker\":{\"color\":\"#636efa\",\"symbol\":\"circle\"},\"mode\":\"markers\",\"name\":\"4WD\",\"orientation\":\"v\",\"showlegend\":true,\"x\":[2013,2014,2015,2016,2017,2018,2019,2020,2021],\"xaxis\":\"x\",\"y\":[23800.454545454544,25738.25,31436.763636363637,36134.0,36968.5625,41448.692307692305,44682.89183222958,48882.82960893855,61662.762068965516],\"yaxis\":\"y\",\"type\":\"scatter\"},{\"hovertemplate\":\"<b>OLS trendline</b><br>avg_price = 4211.5 * Year + -8.45562e+06<br>R<sup>2</sup>=0.945119<br><br>Drivetrain=4WD<br>Model Year=%{x}<br>Average Price=%{y} <b>(trend)</b><extra></extra>\",\"legendgroup\":\"4WD\",\"marker\":{\"color\":\"#636efa\",\"symbol\":\"circle\"},\"mode\":\"lines\",\"name\":\"4WD\",\"showlegend\":false,\"x\":[2013,2014,2015,2016,2017,2018,2019,2020,2021],\"xaxis\":\"x\",\"y\":[22126.80621416308,26338.304841168225,30549.803468171507,34761.30209517665,38972.8007221818,43184.29934918694,47395.79797619209,51607.29660319537,55818.795230200514],\"yaxis\":\"y\",\"type\":\"scatter\"},{\"hovertemplate\":\"Drivetrain=AWD<br>Model Year=%{x}<br>Average Price=%{y}<extra></extra>\",\"legendgroup\":\"AWD\",\"marker\":{\"color\":\"#EF553B\",\"symbol\":\"circle\"},\"mode\":\"markers\",\"name\":\"AWD\",\"orientation\":\"v\",\"showlegend\":true,\"x\":[2013,2014,2015,2016,2017,2018,2019,2020,2021,2022],\"xaxis\":\"x\",\"y\":[26619.79487179487,30017.9,38764.357142857145,32162.08383233533,35253.99613899614,37350.865758754866,41803.13461538462,48960.38985005767,51439.16487455197,58461.348837209305],\"yaxis\":\"y\",\"type\":\"scatter\"},{\"hovertemplate\":\"<b>OLS trendline</b><br>avg_price = 3142.56 * Year + -6.30004e+06<br>R<sup>2</sup>=0.879550<br><br>Drivetrain=AWD<br>Model Year=%{x}<br>Average Price=%{y} <b>(trend)</b><extra></extra>\",\"legendgroup\":\"AWD\",\"marker\":{\"color\":\"#EF553B\",\"symbol\":\"circle\"},\"mode\":\"lines\",\"name\":\"AWD\",\"showlegend\":false,\"x\":[2013,2014,2015,2016,2017,2018,2019,2020,2021,2022],\"xaxis\":\"x\",\"y\":[25941.766538140364,29084.33032793086,32226.894117721356,35369.45790751185,38512.02169730235,41654.585487092845,44797.14927688334,47939.71306667384,51082.276856464334,54224.8406462539],\"yaxis\":\"y\",\"type\":\"scatter\"},{\"hovertemplate\":\"Drivetrain=FWD<br>Model Year=%{x}<br>Average Price=%{y}<extra></extra>\",\"legendgroup\":\"FWD\",\"marker\":{\"color\":\"#00cc96\",\"symbol\":\"circle\"},\"mode\":\"markers\",\"name\":\"FWD\",\"orientation\":\"v\",\"showlegend\":true,\"x\":[2013,2014,2015,2016,2017,2018,2019,2020,2021,2022],\"xaxis\":\"x\",\"y\":[15870.275,16470.815789473683,19923.765625,20960.01388888889,23388.743243243243,28034.875,31113.064245810056,30883.512038523273,35161.98013245033,39041.94736842105],\"yaxis\":\"y\",\"type\":\"scatter\"},{\"hovertemplate\":\"<b>OLS trendline</b><br>avg_price = 2601.74 * Year + -5.22293e+06<br>R<sup>2</sup>=0.978611<br><br>Drivetrain=FWD<br>Model Year=%{x}<br>Average Price=%{y} <b>(trend)</b><extra></extra>\",\"legendgroup\":\"FWD\",\"marker\":{\"color\":\"#00cc96\",\"symbol\":\"circle\"},\"mode\":\"lines\",\"name\":\"FWD\",\"showlegend\":false,\"x\":[2013,2014,2015,2016,2017,2018,2019,2020,2021,2022],\"xaxis\":\"x\",\"y\":[14377.066052864306,16978.80675960239,19580.547466339543,22182.288173076697,24784.02887981478,27385.769586551934,29987.510293289088,32589.251000027172,35190.991706764325,37792.73241350241],\"yaxis\":\"y\",\"type\":\"scatter\"},{\"hovertemplate\":\"Drivetrain=RWD<br>Model Year=%{x}<br>Average Price=%{y}<extra></extra>\",\"legendgroup\":\"RWD\",\"marker\":{\"color\":\"#ab63fa\",\"symbol\":\"circle\"},\"mode\":\"markers\",\"name\":\"RWD\",\"orientation\":\"v\",\"showlegend\":true,\"x\":[2013,2014,2015,2016,2017,2018,2019,2020,2021],\"xaxis\":\"x\",\"y\":[34739.066666666666,26704.242424242424,31861.957446808512,39684.880952380954,40737.62686567164,39621.455284552845,41312.09722222222,46662.29012345679,52095.22777777778],\"yaxis\":\"y\",\"type\":\"scatter\"},{\"hovertemplate\":\"<b>OLS trendline</b><br>avg_price = 2468.93 * Year + -4.94056e+06<br>R<sup>2</sup>=0.796709<br><br>Drivetrain=RWD<br>Model Year=%{x}<br>Average Price=%{y} <b>(trend)</b><extra></extra>\",\"legendgroup\":\"RWD\",\"marker\":{\"color\":\"#ab63fa\",\"symbol\":\"circle\"},\"mode\":\"lines\",\"name\":\"RWD\",\"showlegend\":false,\"x\":[2013,2014,2015,2016,2017,2018,2019,2020,2021],\"xaxis\":\"x\",\"y\":[29393.051100969315,31861.978458054364,34330.90581513941,36799.83317222353,39268.76052930858,41737.68788639363,44206.61524347775,46675.542600562796,49144.469957647845],\"yaxis\":\"y\",\"type\":\"scatter\"}],                        {\"template\":{\"data\":{\"bar\":[{\"error_x\":{\"color\":\"#2a3f5f\"},\"error_y\":{\"color\":\"#2a3f5f\"},\"marker\":{\"line\":{\"color\":\"#E5ECF6\",\"width\":0.5},\"pattern\":{\"fillmode\":\"overlay\",\"size\":10,\"solidity\":0.2}},\"type\":\"bar\"}],\"barpolar\":[{\"marker\":{\"line\":{\"color\":\"#E5ECF6\",\"width\":0.5},\"pattern\":{\"fillmode\":\"overlay\",\"size\":10,\"solidity\":0.2}},\"type\":\"barpolar\"}],\"carpet\":[{\"aaxis\":{\"endlinecolor\":\"#2a3f5f\",\"gridcolor\":\"white\",\"linecolor\":\"white\",\"minorgridcolor\":\"white\",\"startlinecolor\":\"#2a3f5f\"},\"baxis\":{\"endlinecolor\":\"#2a3f5f\",\"gridcolor\":\"white\",\"linecolor\":\"white\",\"minorgridcolor\":\"white\",\"startlinecolor\":\"#2a3f5f\"},\"type\":\"carpet\"}],\"choropleth\":[{\"colorbar\":{\"outlinewidth\":0,\"ticks\":\"\"},\"type\":\"choropleth\"}],\"contour\":[{\"colorbar\":{\"outlinewidth\":0,\"ticks\":\"\"},\"colorscale\":[[0.0,\"#0d0887\"],[0.1111111111111111,\"#46039f\"],[0.2222222222222222,\"#7201a8\"],[0.3333333333333333,\"#9c179e\"],[0.4444444444444444,\"#bd3786\"],[0.5555555555555556,\"#d8576b\"],[0.6666666666666666,\"#ed7953\"],[0.7777777777777778,\"#fb9f3a\"],[0.8888888888888888,\"#fdca26\"],[1.0,\"#f0f921\"]],\"type\":\"contour\"}],\"contourcarpet\":[{\"colorbar\":{\"outlinewidth\":0,\"ticks\":\"\"},\"type\":\"contourcarpet\"}],\"heatmap\":[{\"colorbar\":{\"outlinewidth\":0,\"ticks\":\"\"},\"colorscale\":[[0.0,\"#0d0887\"],[0.1111111111111111,\"#46039f\"],[0.2222222222222222,\"#7201a8\"],[0.3333333333333333,\"#9c179e\"],[0.4444444444444444,\"#bd3786\"],[0.5555555555555556,\"#d8576b\"],[0.6666666666666666,\"#ed7953\"],[0.7777777777777778,\"#fb9f3a\"],[0.8888888888888888,\"#fdca26\"],[1.0,\"#f0f921\"]],\"type\":\"heatmap\"}],\"heatmapgl\":[{\"colorbar\":{\"outlinewidth\":0,\"ticks\":\"\"},\"colorscale\":[[0.0,\"#0d0887\"],[0.1111111111111111,\"#46039f\"],[0.2222222222222222,\"#7201a8\"],[0.3333333333333333,\"#9c179e\"],[0.4444444444444444,\"#bd3786\"],[0.5555555555555556,\"#d8576b\"],[0.6666666666666666,\"#ed7953\"],[0.7777777777777778,\"#fb9f3a\"],[0.8888888888888888,\"#fdca26\"],[1.0,\"#f0f921\"]],\"type\":\"heatmapgl\"}],\"histogram\":[{\"marker\":{\"pattern\":{\"fillmode\":\"overlay\",\"size\":10,\"solidity\":0.2}},\"type\":\"histogram\"}],\"histogram2d\":[{\"colorbar\":{\"outlinewidth\":0,\"ticks\":\"\"},\"colorscale\":[[0.0,\"#0d0887\"],[0.1111111111111111,\"#46039f\"],[0.2222222222222222,\"#7201a8\"],[0.3333333333333333,\"#9c179e\"],[0.4444444444444444,\"#bd3786\"],[0.5555555555555556,\"#d8576b\"],[0.6666666666666666,\"#ed7953\"],[0.7777777777777778,\"#fb9f3a\"],[0.8888888888888888,\"#fdca26\"],[1.0,\"#f0f921\"]],\"type\":\"histogram2d\"}],\"histogram2dcontour\":[{\"colorbar\":{\"outlinewidth\":0,\"ticks\":\"\"},\"colorscale\":[[0.0,\"#0d0887\"],[0.1111111111111111,\"#46039f\"],[0.2222222222222222,\"#7201a8\"],[0.3333333333333333,\"#9c179e\"],[0.4444444444444444,\"#bd3786\"],[0.5555555555555556,\"#d8576b\"],[0.6666666666666666,\"#ed7953\"],[0.7777777777777778,\"#fb9f3a\"],[0.8888888888888888,\"#fdca26\"],[1.0,\"#f0f921\"]],\"type\":\"histogram2dcontour\"}],\"mesh3d\":[{\"colorbar\":{\"outlinewidth\":0,\"ticks\":\"\"},\"type\":\"mesh3d\"}],\"parcoords\":[{\"line\":{\"colorbar\":{\"outlinewidth\":0,\"ticks\":\"\"}},\"type\":\"parcoords\"}],\"pie\":[{\"automargin\":true,\"type\":\"pie\"}],\"scatter\":[{\"marker\":{\"colorbar\":{\"outlinewidth\":0,\"ticks\":\"\"}},\"type\":\"scatter\"}],\"scatter3d\":[{\"line\":{\"colorbar\":{\"outlinewidth\":0,\"ticks\":\"\"}},\"marker\":{\"colorbar\":{\"outlinewidth\":0,\"ticks\":\"\"}},\"type\":\"scatter3d\"}],\"scattercarpet\":[{\"marker\":{\"colorbar\":{\"outlinewidth\":0,\"ticks\":\"\"}},\"type\":\"scattercarpet\"}],\"scattergeo\":[{\"marker\":{\"colorbar\":{\"outlinewidth\":0,\"ticks\":\"\"}},\"type\":\"scattergeo\"}],\"scattergl\":[{\"marker\":{\"colorbar\":{\"outlinewidth\":0,\"ticks\":\"\"}},\"type\":\"scattergl\"}],\"scattermapbox\":[{\"marker\":{\"colorbar\":{\"outlinewidth\":0,\"ticks\":\"\"}},\"type\":\"scattermapbox\"}],\"scatterpolar\":[{\"marker\":{\"colorbar\":{\"outlinewidth\":0,\"ticks\":\"\"}},\"type\":\"scatterpolar\"}],\"scatterpolargl\":[{\"marker\":{\"colorbar\":{\"outlinewidth\":0,\"ticks\":\"\"}},\"type\":\"scatterpolargl\"}],\"scatterternary\":[{\"marker\":{\"colorbar\":{\"outlinewidth\":0,\"ticks\":\"\"}},\"type\":\"scatterternary\"}],\"surface\":[{\"colorbar\":{\"outlinewidth\":0,\"ticks\":\"\"},\"colorscale\":[[0.0,\"#0d0887\"],[0.1111111111111111,\"#46039f\"],[0.2222222222222222,\"#7201a8\"],[0.3333333333333333,\"#9c179e\"],[0.4444444444444444,\"#bd3786\"],[0.5555555555555556,\"#d8576b\"],[0.6666666666666666,\"#ed7953\"],[0.7777777777777778,\"#fb9f3a\"],[0.8888888888888888,\"#fdca26\"],[1.0,\"#f0f921\"]],\"type\":\"surface\"}],\"table\":[{\"cells\":{\"fill\":{\"color\":\"#EBF0F8\"},\"line\":{\"color\":\"white\"}},\"header\":{\"fill\":{\"color\":\"#C8D4E3\"},\"line\":{\"color\":\"white\"}},\"type\":\"table\"}]},\"layout\":{\"annotationdefaults\":{\"arrowcolor\":\"#2a3f5f\",\"arrowhead\":0,\"arrowwidth\":1},\"autotypenumbers\":\"strict\",\"coloraxis\":{\"colorbar\":{\"outlinewidth\":0,\"ticks\":\"\"}},\"colorscale\":{\"diverging\":[[0,\"#8e0152\"],[0.1,\"#c51b7d\"],[0.2,\"#de77ae\"],[0.3,\"#f1b6da\"],[0.4,\"#fde0ef\"],[0.5,\"#f7f7f7\"],[0.6,\"#e6f5d0\"],[0.7,\"#b8e186\"],[0.8,\"#7fbc41\"],[0.9,\"#4d9221\"],[1,\"#276419\"]],\"sequential\":[[0.0,\"#0d0887\"],[0.1111111111111111,\"#46039f\"],[0.2222222222222222,\"#7201a8\"],[0.3333333333333333,\"#9c179e\"],[0.4444444444444444,\"#bd3786\"],[0.5555555555555556,\"#d8576b\"],[0.6666666666666666,\"#ed7953\"],[0.7777777777777778,\"#fb9f3a\"],[0.8888888888888888,\"#fdca26\"],[1.0,\"#f0f921\"]],\"sequentialminus\":[[0.0,\"#0d0887\"],[0.1111111111111111,\"#46039f\"],[0.2222222222222222,\"#7201a8\"],[0.3333333333333333,\"#9c179e\"],[0.4444444444444444,\"#bd3786\"],[0.5555555555555556,\"#d8576b\"],[0.6666666666666666,\"#ed7953\"],[0.7777777777777778,\"#fb9f3a\"],[0.8888888888888888,\"#fdca26\"],[1.0,\"#f0f921\"]]},\"colorway\":[\"#636efa\",\"#EF553B\",\"#00cc96\",\"#ab63fa\",\"#FFA15A\",\"#19d3f3\",\"#FF6692\",\"#B6E880\",\"#FF97FF\",\"#FECB52\"],\"font\":{\"color\":\"#2a3f5f\"},\"geo\":{\"bgcolor\":\"white\",\"lakecolor\":\"white\",\"landcolor\":\"#E5ECF6\",\"showlakes\":true,\"showland\":true,\"subunitcolor\":\"white\"},\"hoverlabel\":{\"align\":\"left\"},\"hovermode\":\"closest\",\"mapbox\":{\"style\":\"light\"},\"paper_bgcolor\":\"white\",\"plot_bgcolor\":\"#E5ECF6\",\"polar\":{\"angularaxis\":{\"gridcolor\":\"white\",\"linecolor\":\"white\",\"ticks\":\"\"},\"bgcolor\":\"#E5ECF6\",\"radialaxis\":{\"gridcolor\":\"white\",\"linecolor\":\"white\",\"ticks\":\"\"}},\"scene\":{\"xaxis\":{\"backgroundcolor\":\"#E5ECF6\",\"gridcolor\":\"white\",\"gridwidth\":2,\"linecolor\":\"white\",\"showbackground\":true,\"ticks\":\"\",\"zerolinecolor\":\"white\"},\"yaxis\":{\"backgroundcolor\":\"#E5ECF6\",\"gridcolor\":\"white\",\"gridwidth\":2,\"linecolor\":\"white\",\"showbackground\":true,\"ticks\":\"\",\"zerolinecolor\":\"white\"},\"zaxis\":{\"backgroundcolor\":\"#E5ECF6\",\"gridcolor\":\"white\",\"gridwidth\":2,\"linecolor\":\"white\",\"showbackground\":true,\"ticks\":\"\",\"zerolinecolor\":\"white\"}},\"shapedefaults\":{\"line\":{\"color\":\"#2a3f5f\"}},\"ternary\":{\"aaxis\":{\"gridcolor\":\"white\",\"linecolor\":\"white\",\"ticks\":\"\"},\"baxis\":{\"gridcolor\":\"white\",\"linecolor\":\"white\",\"ticks\":\"\"},\"bgcolor\":\"#E5ECF6\",\"caxis\":{\"gridcolor\":\"white\",\"linecolor\":\"white\",\"ticks\":\"\"}},\"title\":{\"x\":0.05},\"xaxis\":{\"automargin\":true,\"gridcolor\":\"white\",\"linecolor\":\"white\",\"ticks\":\"\",\"title\":{\"standoff\":15},\"zerolinecolor\":\"white\",\"zerolinewidth\":2},\"yaxis\":{\"automargin\":true,\"gridcolor\":\"white\",\"linecolor\":\"white\",\"ticks\":\"\",\"title\":{\"standoff\":15},\"zerolinecolor\":\"white\",\"zerolinewidth\":2}}},\"xaxis\":{\"anchor\":\"y\",\"domain\":[0.0,1.0],\"title\":{\"text\":\"Model Year\"}},\"yaxis\":{\"anchor\":\"x\",\"domain\":[0.0,1.0],\"title\":{\"text\":\"Average Price\"}},\"legend\":{\"title\":{\"text\":\"Drivetrain\"},\"tracegroupgap\":0},\"title\":{\"text\":\"Average Price by Model Year/Drivetrain Option\"}},                        {\"responsive\": true}                    ).then(function(){\n",
       "                            \n",
       "var gd = document.getElementById('7004dba1-2c21-447c-92a2-b0f5a91d7302');\n",
       "var x = new MutationObserver(function (mutations, observer) {{\n",
       "        var display = window.getComputedStyle(gd).display;\n",
       "        if (!display || display === 'none') {{\n",
       "            console.log([gd, 'removed!']);\n",
       "            Plotly.purge(gd);\n",
       "            observer.disconnect();\n",
       "        }}\n",
       "}});\n",
       "\n",
       "// Listen for the removal of the full notebook cells\n",
       "var notebookContainer = gd.closest('#notebook-container');\n",
       "if (notebookContainer) {{\n",
       "    x.observe(notebookContainer, {childList: true});\n",
       "}}\n",
       "\n",
       "// Listen for the clearing of the current output cell\n",
       "var outputEl = gd.closest('.output');\n",
       "if (outputEl) {{\n",
       "    x.observe(outputEl, {childList: true});\n",
       "}}\n",
       "\n",
       "                        })                };                });            </script>        </div>"
      ]
     },
     "metadata": {},
     "output_type": "display_data"
    },
    {
     "data": {
      "image/png": "[encoded data removed]",
      "text/plain": [
       "<Figure size 1800x1200 with 1 Axes>"
      ]
     },
     "metadata": {
      "needs_background": "light"
     },
     "output_type": "display_data"
    }
   ],
   "source": [
    "#Make a new df, to compare ratings between different drivetrains over model years\n",
    "drive_df = cars_data.groupby(['Drivetrain', 'Year']).agg(car_count = ('SellerRating', 'count'),\n",
    "                                                  avg_price = ('Price', 'mean')).reset_index()                                            \n",
    "drive_df = drive_df[(drive_df['Year'] > 2012) & (drive_df['car_count'] > 10)]\n",
    "drive_df_years = drive_df['Year'].unique\n",
    "print(drive_df)\n",
    "\n",
    "#Graph average price by model year and drivetrain option, using plotly express\n",
    "fig = px.scatter(drive_df, x = 'Year', y = 'avg_price', color = 'Drivetrain', trendline = 'ols',\n",
    "           labels = {'Year' : 'Model Year', 'avg_price' : 'Average Price'}, title = 'Average Price by Model Year/Drivetrain Option')\n",
    "fig.show()\n",
    "\n",
    "#Make a similar graph, instead using seaborn\n",
    "plt.rcParams['figure.dpi'] = 300\n",
    "plt.rcParams['savefig.dpi'] = 300\n",
    "plt.rcParams['font.family'] = 'Source Sans Pro'\n",
    "fig2, ax = plt.subplots()\n",
    "ax = sns.set_palette('deep')\n",
    "\n",
    "ax = sns.scatterplot(data = drive_df, x = 'Year', y = 'avg_price', hue = 'Drivetrain')\n",
    "ax.set_title('Average Price by Model Year/Drivetrain Option')\n",
    "ax.set_xlabel('Model Year')\n",
    "ax.set_ylabel('Average Price')\n",
    "ax.legend(loc='upper right', bbox_to_anchor=(1.23, 1))\n",
    "plt.show()\n"
   ]
  },
  {
   "cell_type": "code",
   "execution_count": 34,
   "id": "992f6a44-27af-4651-b9d6-06dc5e802468",
   "metadata": {},
   "outputs": [],
   "source": [
    "#Make a new df, to compare price and mileage \n"
   ]
  },
  {
   "cell_type": "code",
   "execution_count": 35,
   "id": "7cd42636-58a4-42c5-b19c-7666f835e33a",
   "metadata": {},
   "outputs": [],
   "source": [
    "#Statistical tests to see if there are significant differences between means and such"
   ]
  },
  {
   "cell_type": "code",
   "execution_count": 36,
   "id": "269030b9-6560-4534-a6d2-1ef3696fd669",
   "metadata": {},
   "outputs": [],
   "source": [
    "#Make a regression, to try to predict price based on different numeric characteristics"
   ]
  },
  {
   "cell_type": "code",
   "execution_count": 37,
   "id": "e4cfc87b-24ff-40e2-b24f-df156ca4244f",
   "metadata": {},
   "outputs": [],
   "source": [
    "#Use a naive Bayes classification to predict make based on ratings"
   ]
  }
 ],
 "metadata": {
  "kernelspec": {
   "display_name": "Python 3 (ipykernel)",
   "language": "python",
   "name": "python3"
  },
  "language_info": {
   "codemirror_mode": {
    "name": "ipython",
    "version": 3
   },
   "file_extension": ".py",
   "mimetype": "text/x-python",
   "name": "python",
   "nbconvert_exporter": "python",
   "pygments_lexer": "ipython3",
   "version": "3.9.12"
  }
 },
 "nbformat": 4,
 "nbformat_minor": 5
}
