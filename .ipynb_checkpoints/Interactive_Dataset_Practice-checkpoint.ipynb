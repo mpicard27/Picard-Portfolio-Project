{
 "cells": [
  {
   "cell_type": "code",
   "execution_count": 8,
   "id": "02d560a6-9bc5-468c-b9ca-f08ccf032657",
   "metadata": {},
   "outputs": [],
   "source": [
    "from jupyter_dash import JupyterDash\n",
    "import dash\n",
    "from dash import html\n",
    "from dash import dcc\n",
    "from dash.dependencies import Output, Input\n",
    "import dash_bootstrap_components as dbc\n",
    "import plotly\n",
    "import pandas as pd\n",
    "import numpy as np\n",
    "import os\n",
    "import plotly.graph_objects as go\n",
    "import plotly.express as px"
   ]
  },
  {
   "cell_type": "code",
   "execution_count": 9,
   "id": "43273ec3-e490-4c6c-9ca8-9f67ac6e897d",
   "metadata": {},
   "outputs": [
    {
     "name": "stdout",
     "output_type": "stream",
     "text": [
      "          Country Name Country Code  \\\n",
      "0  East Asia & Pacific          EAS   \n",
      "1  East Asia & Pacific          EAS   \n",
      "2  East Asia & Pacific          EAS   \n",
      "\n",
      "                                      Indicator Name  Indicator Code  1974  \\\n",
      "0  Annualized growth in per capita real survey me...  SI.SPR.PC40.ZG   NaN   \n",
      "1  Annualized growth in per capita real survey me...  SI.SPR.PT10.ZG   NaN   \n",
      "2  Annualized growth in per capita real survey me...  SI.SPR.PT60.ZG   NaN   \n",
      "\n",
      "   1975  1976  1977  1978  1979  ...  2011  2012  2013  2014  2015  2016  \\\n",
      "0   NaN   NaN   NaN   NaN   NaN  ...   NaN   NaN   NaN   NaN   NaN   NaN   \n",
      "1   NaN   NaN   NaN   NaN   NaN  ...   NaN   NaN   NaN   NaN   NaN   NaN   \n",
      "2   NaN   NaN   NaN   NaN   NaN  ...   NaN   NaN   NaN   NaN   NaN   NaN   \n",
      "\n",
      "   2017  2018  2019  Unnamed: 50  \n",
      "0   NaN   NaN   NaN          NaN  \n",
      "1   NaN   NaN   NaN          NaN  \n",
      "2   NaN   NaN   NaN          NaN  \n",
      "\n",
      "[3 rows x 51 columns]\n"
     ]
    }
   ],
   "source": [
    "poverty_data = pd.read_csv('PovStatsData.csv')\n",
    "print(poverty_data.head(3))\n",
    "\n",
    "regions = ['East Asia & Pacific', 'Europe & Central Asia',\n",
    "           'Fragile and conflict affected situations', 'High income',\n",
    "           'IDA countries classified as fragile situations',\n",
    "           'IDA total', 'Latin America & Caribbean', 'Low & middle income',\n",
    "           'Low income', 'Lower middle income', 'Middle East & North Africa',\n",
    "           'Middle income', 'South Asia', 'Sub-Saharan Africa',\n",
    "           'Upper middle income', 'World']\n",
    "\n",
    "country_data = poverty_data[~poverty_data['Country Name'].isin(regions) & (poverty_data['Indicator Name'] == 'Population, total')].reset_index(drop = True)"
   ]
  },
  {
   "cell_type": "code",
   "execution_count": 15,
   "id": "8ad2ee83-046d-4d4a-88ec-3afaefbaccb8",
   "metadata": {
    "tags": []
   },
   "outputs": [
    {
     "data": {
      "text/html": [
       "\n",
       "        <iframe\n",
       "            width=\"100%\"\n",
       "            height=\"650\"\n",
       "            src=\"http://127.0.0.1:1234/\"\n",
       "            frameborder=\"0\"\n",
       "            allowfullscreen\n",
       "            \n",
       "        ></iframe>\n",
       "        "
      ],
      "text/plain": [
       "<IPython.lib.display.IFrame at 0x241fda3a850>"
      ]
     },
     "metadata": {},
     "output_type": "display_data"
    }
   ],
   "source": [
    "app = JupyterDash(__name__, external_stylesheets = [dbc.themes.JOURNAL])\n",
    "\n",
    "app.layout = html.Div([\n",
    "    html.H1('Poverty And Equity Database',\n",
    "            style = {'fontSize' : '40px'}),\n",
    "    html.H2('The World Bank'),\n",
    "    dcc.Dropdown([{'label' : country, 'value' : country} for country in\n",
    "                  country_data['Country Name'].unique()], id = 'country'),\n",
    "    html.Br(),\n",
    "    html.Div(id = 'report'), \n",
    "    html.Br(),\n",
    "    dcc.Dropdown(\n",
    "        id = 'Dropdown_Menu',\n",
    "        value = '2010',\n",
    "        options = [{'label' : year, 'value' : str(year)} for year in range(1974, 2019)]),\n",
    "    dcc.Graph(id = 'population_chart'),\n",
    "     dbc.Tabs([\n",
    "        dbc.Tab([\n",
    "        html.Ul([\n",
    "            html.Li('Number of Economies: 170'),\n",
    "            html.Li('Temporal Coverage: 1974 - 2019'),\n",
    "            html.Li('Update Frequency: Quarterly'),\n",
    "            html.Li('Last Updated: March 18, 2020'),\n",
    "            html.Li([\n",
    "            'Source: ', \n",
    "            html.A('https://datacatalog.worldbank.org/search/dataset/0038947', href = 'https://datacatalog.worldbank.org/search/dataset/0038947')\n",
    "        ])])], label = 'Key Facts'),\n",
    "         \n",
    "        dbc.Tab([\n",
    "            html.Ul([\n",
    "                html.Br(),\n",
    "                html.Li('Book title: Interactive Dashboards and Data Apps with Plotly and Dash'),\n",
    "                html.Li(['Github repo: ',\n",
    "                         html.A('https://github.com/PacktPublishing/Interactive-Dashboards-and-Data-Apps-with-Plotly-and-Dash',\n",
    "                                href = 'https://github.com/PacktPublishing/Interactive-Dashboards-and-Data-Apps-with-Plotly-and-Dash')])])],\n",
    "            label = 'Project Info')])],\n",
    "    id = 'main_wrapper')\n",
    "\n",
    "@app.callback(Output('report', 'children'),\n",
    "              Input('country', 'value'))\n",
    "\n",
    "def year_output_function(country):\n",
    "    if country is None:\n",
    "        return ''\n",
    "    else:\n",
    "        pop_record = country_data[(country_data['Country Name'] == country) \n",
    "                             & (country_data['Indicator Name'] == 'Population, total')]['2010'].values[0]\n",
    "        return [\n",
    "            html.H3(country),\n",
    "            f'The population of {country} in 2010 was {pop_record}']\n",
    "    \n",
    "    \n",
    "@app.callback(\n",
    "    Output('population_chart', 'figure'),\n",
    "    Input('Dropdown_Menu', 'value'))\n",
    "\n",
    "\n",
    "def year_creator(year):\n",
    "    year_df = country_data[['Country Name', year]].sort_values(year, ascending = False)[:30].reset_index(drop = True)\n",
    "    fig = go.Figure()\n",
    "    fig.layout.template = 'ggplot2'\n",
    "    fig = px.bar(\n",
    "        year_df,\n",
    "        x = 'Country Name',\n",
    "        y = year,\n",
    "        title = f'Top 30 Countries by Population, {year}')\n",
    "    return fig\n",
    "\n",
    "app.run_server(mode = 'Inline', port = 1234, debug = True)"
   ]
  }
 ],
 "metadata": {
  "kernelspec": {
   "display_name": "Python 3 (ipykernel)",
   "language": "python",
   "name": "python3"
  },
  "language_info": {
   "codemirror_mode": {
    "name": "ipython",
    "version": 3
   },
   "file_extension": ".py",
   "mimetype": "text/x-python",
   "name": "python",
   "nbconvert_exporter": "python",
   "pygments_lexer": "ipython3",
   "version": "3.9.12"
  }
 },
 "nbformat": 4,
 "nbformat_minor": 5
}
